{
  "cells": [
    {
      "cell_type": "code",
      "execution_count": null,
      "id": "a759232f",
      "metadata": {
        "id": "a759232f"
      },
      "outputs": [],
      "source": [
        "import numpy as np\n",
        "import pandas as pd\n",
        "import seaborn as sns\n",
        "import matplotlib.pyplot as plt\n",
        "%matplotlib inline"
      ]
    },
    {
      "cell_type": "code",
      "execution_count": null,
      "id": "1f857822",
      "metadata": {
        "colab": {
          "base_uri": "https://localhost:8080/"
        },
        "id": "1f857822",
        "outputId": "b9754f72-b125-44bb-d996-909795fa1197"
      },
      "outputs": [
        {
          "output_type": "stream",
          "name": "stdout",
          "text": [
            "       date   quarter  department       day  team  targeted_productivity  \\\n",
            "0  1/1/2015  Quarter1      sweing  Thursday     8                   0.80   \n",
            "1  1/1/2015  Quarter1  finishing   Thursday     1                   0.75   \n",
            "2  1/1/2015  Quarter1      sweing  Thursday    11                   0.80   \n",
            "3  1/1/2015  Quarter1      sweing  Thursday    12                   0.80   \n",
            "4  1/1/2015  Quarter1      sweing  Thursday     6                   0.80   \n",
            "\n",
            "     smv     wip  over_time  incentive  idle_time  idle_men  \\\n",
            "0  26.16  1108.0       7080         98        0.0         0   \n",
            "1   3.94     NaN        960          0        0.0         0   \n",
            "2  11.41   968.0       3660         50        0.0         0   \n",
            "3  11.41   968.0       3660         50        0.0         0   \n",
            "4  25.90  1170.0       1920         50        0.0         0   \n",
            "\n",
            "   no_of_style_change  no_of_workers  actual_productivity  \n",
            "0                   0           59.0             0.940725  \n",
            "1                   0            8.0             0.886500  \n",
            "2                   0           30.5             0.800570  \n",
            "3                   0           30.5             0.800570  \n",
            "4                   0           56.0             0.800382  \n"
          ]
        }
      ],
      "source": [
        "df=pd.read_csv(\"garments_worker_productivity.csv\")\n",
        "print(df.head())"
      ]
    },
    {
      "cell_type": "code",
      "execution_count": null,
      "id": "454c14a1",
      "metadata": {
        "colab": {
          "base_uri": "https://localhost:8080/"
        },
        "id": "454c14a1",
        "outputId": "1c8525fa-c02b-45eb-e42d-e5ea3b518394"
      },
      "outputs": [
        {
          "output_type": "execute_result",
          "data": {
            "text/plain": [
              "<bound method DataFrame.info of            date   quarter  department        day  team  targeted_productivity  \\\n",
              "0      1/1/2015  Quarter1      sweing   Thursday     8                   0.80   \n",
              "1      1/1/2015  Quarter1  finishing    Thursday     1                   0.75   \n",
              "2      1/1/2015  Quarter1      sweing   Thursday    11                   0.80   \n",
              "3      1/1/2015  Quarter1      sweing   Thursday    12                   0.80   \n",
              "4      1/1/2015  Quarter1      sweing   Thursday     6                   0.80   \n",
              "...         ...       ...         ...        ...   ...                    ...   \n",
              "1192  3/11/2015  Quarter2   finishing  Wednesday    10                   0.75   \n",
              "1193  3/11/2015  Quarter2   finishing  Wednesday     8                   0.70   \n",
              "1194  3/11/2015  Quarter2   finishing  Wednesday     7                   0.65   \n",
              "1195  3/11/2015  Quarter2   finishing  Wednesday     9                   0.75   \n",
              "1196  3/11/2015  Quarter2   finishing  Wednesday     6                   0.70   \n",
              "\n",
              "        smv     wip  over_time  incentive  idle_time  idle_men  \\\n",
              "0     26.16  1108.0       7080         98        0.0         0   \n",
              "1      3.94     NaN        960          0        0.0         0   \n",
              "2     11.41   968.0       3660         50        0.0         0   \n",
              "3     11.41   968.0       3660         50        0.0         0   \n",
              "4     25.90  1170.0       1920         50        0.0         0   \n",
              "...     ...     ...        ...        ...        ...       ...   \n",
              "1192   2.90     NaN        960          0        0.0         0   \n",
              "1193   3.90     NaN        960          0        0.0         0   \n",
              "1194   3.90     NaN        960          0        0.0         0   \n",
              "1195   2.90     NaN       1800          0        0.0         0   \n",
              "1196   2.90     NaN        720          0        0.0         0   \n",
              "\n",
              "      no_of_style_change  no_of_workers  actual_productivity  \n",
              "0                      0           59.0             0.940725  \n",
              "1                      0            8.0             0.886500  \n",
              "2                      0           30.5             0.800570  \n",
              "3                      0           30.5             0.800570  \n",
              "4                      0           56.0             0.800382  \n",
              "...                  ...            ...                  ...  \n",
              "1192                   0            8.0             0.628333  \n",
              "1193                   0            8.0             0.625625  \n",
              "1194                   0            8.0             0.625625  \n",
              "1195                   0           15.0             0.505889  \n",
              "1196                   0            6.0             0.394722  \n",
              "\n",
              "[1197 rows x 15 columns]>"
            ]
          },
          "metadata": {},
          "execution_count": 35
        }
      ],
      "source": [
        "df.info\n"
      ]
    },
    {
      "cell_type": "code",
      "execution_count": null,
      "id": "abe52fe5",
      "metadata": {
        "colab": {
          "base_uri": "https://localhost:8080/",
          "height": 355
        },
        "id": "abe52fe5",
        "outputId": "5a5c86fa-0fec-4ab2-a737-bc1c736a7aa6"
      },
      "outputs": [
        {
          "output_type": "stream",
          "name": "stderr",
          "text": [
            "/usr/local/lib/python3.7/dist-packages/seaborn/_decorators.py:43: FutureWarning: Pass the following variable as a keyword arg: x. From version 0.12, the only valid positional argument will be `data`, and passing other arguments without an explicit keyword will result in an error or misinterpretation.\n",
            "  FutureWarning\n"
          ]
        },
        {
          "output_type": "execute_result",
          "data": {
            "text/plain": [
              "<matplotlib.axes._subplots.AxesSubplot at 0x7fe1a9b1f650>"
            ]
          },
          "metadata": {},
          "execution_count": 97
        },
        {
          "output_type": "display_data",
          "data": {
            "text/plain": [
              "<Figure size 432x288 with 1 Axes>"
            ],
            "image/png": "[encoded data removed]"
          },
          "metadata": {
            "needs_background": "light"
          }
        }
      ],
      "source": [
        "sns.countplot(df['no_of_workers'])"
      ]
    },
    {
      "cell_type": "code",
      "execution_count": null,
      "id": "6a031cae",
      "metadata": {
        "scrolled": true,
        "colab": {
          "base_uri": "https://localhost:8080/"
        },
        "id": "6a031cae",
        "outputId": "fdedd75d-610b-4b2b-cf21-4315cd83e03f"
      },
      "outputs": [
        {
          "output_type": "stream",
          "name": "stdout",
          "text": [
            "converteed 0       40\n",
            "1       40\n",
            "2       40\n",
            "3       40\n",
            "4       40\n",
            "        ..\n",
            "1192    30\n",
            "1193    30\n",
            "1194    30\n",
            "1195    30\n",
            "1196    30\n",
            "Name: day, Length: 1197, dtype: object\n"
          ]
        }
      ],
      "source": [
        "# for i in df['quarter']:\n",
        "# #     print(i)\n",
        "#     if i==\"Quarter1\":\n",
        "#         i=\"1.0\"\n",
        "#     elif i==\"Quarter2\":\n",
        "#         i=\"2.0\"\n",
        "# print(df['department'][1])\n",
        "df['department']=df['department'].replace({'sweing':'1.0'})\n",
        "\n",
        "df['department']=df['department'].replace('finishing','2.0')\n",
        "\n",
        "df['department']=df['department'].replace('finishing ','2.0')\n",
        "df['quarter'] = df['quarter'].replace({'Quarter1': '1.0'})\n",
        "df['quarter'] = df['quarter'].replace({'Quarter2': '2.0'})\n",
        "df['quarter'] = df['quarter'].replace({'Quarter3': '3.0'})\n",
        "df['quarter'] = df['quarter'].replace({'Quarter4': '4.0'})\n",
        "df['quarter'] = df['quarter'].replace({'Quarter5': '5.0'})\n",
        "\n",
        "df['day']=df['day'].replace(\"Monday\",\"10\")\n",
        "df['day']=df['day'].replace(\"Tuesday\",\"20\")\n",
        "df['day']=df['day'].replace(\"Wednesday\",\"30\")\n",
        "df['day']=df['day'].replace(\"Thursday\",\"40\")\n",
        "df['day']=df['day'].replace(\"Friday\",\"50\")\n",
        "df['day']=df['day'].replace(\"Saturday\",\"60\")\n",
        "df['day']=df['day'].replace(\"Sunday\",\"70\")\n",
        "# print(\"converted\",df['quarter'])\n",
        "print(\"converteed\",df['day'])"
      ]
    },
    {
      "cell_type": "code",
      "execution_count": null,
      "id": "86ae54ec",
      "metadata": {
        "id": "86ae54ec"
      },
      "outputs": [],
      "source": [
        "df['quarter']=df['quarter'].astype(float)\n",
        "df['department']=df['department'].astype(float)\n",
        "df['day']=df['day'].astype(float)"
      ]
    },
    {
      "cell_type": "code",
      "execution_count": null,
      "id": "a08fd151",
      "metadata": {
        "id": "a08fd151"
      },
      "outputs": [],
      "source": [
        "df.replace(\"NaN\",\"0.0\")\n",
        "df['wip']=df['wip'].replace(\"NaN\")"
      ]
    },
    {
      "cell_type": "code",
      "execution_count": null,
      "id": "e3b8d56f",
      "metadata": {
        "colab": {
          "base_uri": "https://localhost:8080/"
        },
        "id": "e3b8d56f",
        "outputId": "56ae82a1-0f13-4c6d-9bac-8647aa1bb4ff"
      },
      "outputs": [
        {
          "output_type": "execute_result",
          "data": {
            "text/plain": [
              "date                       0\n",
              "quarter                    0\n",
              "department                 0\n",
              "day                        0\n",
              "team                       0\n",
              "targeted_productivity      0\n",
              "smv                        0\n",
              "wip                      506\n",
              "over_time                  0\n",
              "incentive                  0\n",
              "idle_time                  0\n",
              "idle_men                   0\n",
              "no_of_style_change         0\n",
              "no_of_workers              0\n",
              "actual_productivity        0\n",
              "dtype: int64"
            ]
          },
          "metadata": {},
          "execution_count": 40
        }
      ],
      "source": [
        "df.isnull().sum()"
      ]
    },
    {
      "cell_type": "code",
      "execution_count": null,
      "id": "09947c28",
      "metadata": {
        "id": "09947c28"
      },
      "outputs": [],
      "source": [
        "df['wip'].replace([np.nan],df['wip'].mean,inplace=True)\n"
      ]
    },
    {
      "cell_type": "code",
      "execution_count": null,
      "id": "8478fb0f",
      "metadata": {
        "colab": {
          "base_uri": "https://localhost:8080/"
        },
        "id": "8478fb0f",
        "outputId": "f86212b7-f9da-4eb6-a8d7-770f87b9b533"
      },
      "outputs": [
        {
          "output_type": "execute_result",
          "data": {
            "text/plain": [
              "date                     0\n",
              "quarter                  0\n",
              "department               0\n",
              "day                      0\n",
              "team                     0\n",
              "targeted_productivity    0\n",
              "smv                      0\n",
              "wip                      0\n",
              "over_time                0\n",
              "incentive                0\n",
              "idle_time                0\n",
              "idle_men                 0\n",
              "no_of_style_change       0\n",
              "no_of_workers            0\n",
              "actual_productivity      0\n",
              "dtype: int64"
            ]
          },
          "metadata": {},
          "execution_count": 42
        }
      ],
      "source": [
        "df.isnull().sum()"
      ]
    },
    {
      "cell_type": "code",
      "execution_count": null,
      "id": "52976661",
      "metadata": {
        "id": "52976661"
      },
      "outputs": [],
      "source": [
        "df['date'] = pd.to_numeric(pd.to_datetime(df['date']))\n",
        "\n",
        "df['wip'] = pd.to_numeric(df['wip'], errors='coerce')"
      ]
    },
    {
      "cell_type": "code",
      "execution_count": null,
      "id": "f74bc04d",
      "metadata": {
        "colab": {
          "base_uri": "https://localhost:8080/"
        },
        "id": "f74bc04d",
        "outputId": "24857346-ee5c-4990-dcb2-2f7c9bee9f6a"
      },
      "outputs": [
        {
          "output_type": "execute_result",
          "data": {
            "text/plain": [
              "date                     True\n",
              "quarter                  True\n",
              "department               True\n",
              "day                      True\n",
              "team                     True\n",
              "targeted_productivity    True\n",
              "smv                      True\n",
              "wip                      True\n",
              "over_time                True\n",
              "incentive                True\n",
              "idle_time                True\n",
              "idle_men                 True\n",
              "no_of_style_change       True\n",
              "no_of_workers            True\n",
              "actual_productivity      True\n",
              "dtype: bool"
            ]
          },
          "metadata": {},
          "execution_count": 44
        }
      ],
      "source": [
        "np.isnan(df.any()) #and gets False\n",
        "np.isfinite(df.all()) #and gets True"
      ]
    },
    {
      "cell_type": "code",
      "execution_count": null,
      "id": "c310531f",
      "metadata": {
        "id": "c310531f"
      },
      "outputs": [],
      "source": [
        "from sklearn.model_selection import train_test_split\n",
        "X = df.drop(['wip'],axis=1)\n",
        "\n",
        "y = df['no_of_workers']\n",
        "X_train, X_test, y_train, y_test = train_test_split(X, y, test_size = 0.2)\n"
      ]
    },
    {
      "cell_type": "code",
      "source": [
        "X.head()"
      ],
      "metadata": {
        "colab": {
          "base_uri": "https://localhost:8080/",
          "height": 270
        },
        "id": "Af59EzBhMLOp",
        "outputId": "eded574c-2201-4a5e-e9a7-87aeb30b5b5f"
      },
      "id": "Af59EzBhMLOp",
      "execution_count": null,
      "outputs": [
        {
          "output_type": "execute_result",
          "data": {
            "text/plain": [
              "                  date  quarter  department   day  team  \\\n",
              "0  1420070400000000000      1.0         1.0  40.0     8   \n",
              "1  1420070400000000000      1.0         2.0  40.0     1   \n",
              "2  1420070400000000000      1.0         1.0  40.0    11   \n",
              "3  1420070400000000000      1.0         1.0  40.0    12   \n",
              "4  1420070400000000000      1.0         1.0  40.0     6   \n",
              "\n",
              "   targeted_productivity    smv  over_time  incentive  idle_time  idle_men  \\\n",
              "0                   0.80  26.16       7080         98        0.0         0   \n",
              "1                   0.75   3.94        960          0        0.0         0   \n",
              "2                   0.80  11.41       3660         50        0.0         0   \n",
              "3                   0.80  11.41       3660         50        0.0         0   \n",
              "4                   0.80  25.90       1920         50        0.0         0   \n",
              "\n",
              "   no_of_style_change  no_of_workers  actual_productivity  \n",
              "0                   0           59.0             0.940725  \n",
              "1                   0            8.0             0.886500  \n",
              "2                   0           30.5             0.800570  \n",
              "3                   0           30.5             0.800570  \n",
              "4                   0           56.0             0.800382  "
            ],
            "text/html": [
              "\n",
              "  <div id=\"df-a78b0690-64d5-414e-9949-cafa0efc1e03\">\n",
              "    <div class=\"colab-df-container\">\n",
              "      <div>\n",
              "<style scoped>\n",
              "    .dataframe tbody tr th:only-of-type {\n",
              "        vertical-align: middle;\n",
              "    }\n",
              "\n",
              "    .dataframe tbody tr th {\n",
              "        vertical-align: top;\n",
              "    }\n",
              "\n",
              "    .dataframe thead th {\n",
              "        text-align: right;\n",
              "    }\n",
              "</style>\n",
              "<table border=\"1\" class=\"dataframe\">\n",
              "  <thead>\n",
              "    <tr style=\"text-align: right;\">\n",
              "      <th></th>\n",
              "      <th>date</th>\n",
              "      <th>quarter</th>\n",
              "      <th>department</th>\n",
              "      <th>day</th>\n",
              "      <th>team</th>\n",
              "      <th>targeted_productivity</th>\n",
              "      <th>smv</th>\n",
              "      <th>over_time</th>\n",
              "      <th>incentive</th>\n",
              "      <th>idle_time</th>\n",
              "      <th>idle_men</th>\n",
              "      <th>no_of_style_change</th>\n",
              "      <th>no_of_workers</th>\n",
              "      <th>actual_productivity</th>\n",
              "    </tr>\n",
              "  </thead>\n",
              "  <tbody>\n",
              "    <tr>\n",
              "      <th>0</th>\n",
              "      <td>1420070400000000000</td>\n",
              "      <td>1.0</td>\n",
              "      <td>1.0</td>\n",
              "      <td>40.0</td>\n",
              "      <td>8</td>\n",
              "      <td>0.80</td>\n",
              "      <td>26.16</td>\n",
              "      <td>7080</td>\n",
              "      <td>98</td>\n",
              "      <td>0.0</td>\n",
              "      <td>0</td>\n",
              "      <td>0</td>\n",
              "      <td>59.0</td>\n",
              "      <td>0.940725</td>\n",
              "    </tr>\n",
              "    <tr>\n",
              "      <th>1</th>\n",
              "      <td>1420070400000000000</td>\n",
              "      <td>1.0</td>\n",
              "      <td>2.0</td>\n",
              "      <td>40.0</td>\n",
              "      <td>1</td>\n",
              "      <td>0.75</td>\n",
              "      <td>3.94</td>\n",
              "      <td>960</td>\n",
              "      <td>0</td>\n",
              "      <td>0.0</td>\n",
              "      <td>0</td>\n",
              "      <td>0</td>\n",
              "      <td>8.0</td>\n",
              "      <td>0.886500</td>\n",
              "    </tr>\n",
              "    <tr>\n",
              "      <th>2</th>\n",
              "      <td>1420070400000000000</td>\n",
              "      <td>1.0</td>\n",
              "      <td>1.0</td>\n",
              "      <td>40.0</td>\n",
              "      <td>11</td>\n",
              "      <td>0.80</td>\n",
              "      <td>11.41</td>\n",
              "      <td>3660</td>\n",
              "      <td>50</td>\n",
              "      <td>0.0</td>\n",
              "      <td>0</td>\n",
              "      <td>0</td>\n",
              "      <td>30.5</td>\n",
              "      <td>0.800570</td>\n",
              "    </tr>\n",
              "    <tr>\n",
              "      <th>3</th>\n",
              "      <td>1420070400000000000</td>\n",
              "      <td>1.0</td>\n",
              "      <td>1.0</td>\n",
              "      <td>40.0</td>\n",
              "      <td>12</td>\n",
              "      <td>0.80</td>\n",
              "      <td>11.41</td>\n",
              "      <td>3660</td>\n",
              "      <td>50</td>\n",
              "      <td>0.0</td>\n",
              "      <td>0</td>\n",
              "      <td>0</td>\n",
              "      <td>30.5</td>\n",
              "      <td>0.800570</td>\n",
              "    </tr>\n",
              "    <tr>\n",
              "      <th>4</th>\n",
              "      <td>1420070400000000000</td>\n",
              "      <td>1.0</td>\n",
              "      <td>1.0</td>\n",
              "      <td>40.0</td>\n",
              "      <td>6</td>\n",
              "      <td>0.80</td>\n",
              "      <td>25.90</td>\n",
              "      <td>1920</td>\n",
              "      <td>50</td>\n",
              "      <td>0.0</td>\n",
              "      <td>0</td>\n",
              "      <td>0</td>\n",
              "      <td>56.0</td>\n",
              "      <td>0.800382</td>\n",
              "    </tr>\n",
              "  </tbody>\n",
              "</table>\n",
              "</div>\n",
              "      <button class=\"colab-df-convert\" onclick=\"convertToInteractive('df-a78b0690-64d5-414e-9949-cafa0efc1e03')\"\n",
              "              title=\"Convert this dataframe to an interactive table.\"\n",
              "              style=\"display:none;\">\n",
              "        \n",
              "  <svg xmlns=\"http://www.w3.org/2000/svg\" height=\"24px\"viewBox=\"0 0 24 24\"\n",
              "       width=\"24px\">\n",
              "    <path d=\"M0 0h24v24H0V0z\" fill=\"none\"/>\n",
              "    <path d=\"M18.56 5.44l.94 2.06.94-2.06 2.06-.94-2.06-.94-.94-2.06-.94 2.06-2.06.94zm-11 1L8.5 8.5l.94-2.06 2.06-.94-2.06-.94L8.5 2.5l-.94 2.06-2.06.94zm10 10l.94 2.06.94-2.06 2.06-.94-2.06-.94-.94-2.06-.94 2.06-2.06.94z\"/><path d=\"M17.41 7.96l-1.37-1.37c-.4-.4-.92-.59-1.43-.59-.52 0-1.04.2-1.43.59L10.3 9.45l-7.72 7.72c-.78.78-.78 2.05 0 2.83L4 21.41c.39.39.9.59 1.41.59.51 0 1.02-.2 1.41-.59l7.78-7.78 2.81-2.81c.8-.78.8-2.07 0-2.86zM5.41 20L4 18.59l7.72-7.72 1.47 1.35L5.41 20z\"/>\n",
              "  </svg>\n",
              "      </button>\n",
              "      \n",
              "  <style>\n",
              "    .colab-df-container {\n",
              "      display:flex;\n",
              "      flex-wrap:wrap;\n",
              "      gap: 12px;\n",
              "    }\n",
              "\n",
              "    .colab-df-convert {\n",
              "      background-color: #E8F0FE;\n",
              "      border: none;\n",
              "      border-radius: 50%;\n",
              "      cursor: pointer;\n",
              "      display: none;\n",
              "      fill: #1967D2;\n",
              "      height: 32px;\n",
              "      padding: 0 0 0 0;\n",
              "      width: 32px;\n",
              "    }\n",
              "\n",
              "    .colab-df-convert:hover {\n",
              "      background-color: #E2EBFA;\n",
              "      box-shadow: 0px 1px 2px rgba(60, 64, 67, 0.3), 0px 1px 3px 1px rgba(60, 64, 67, 0.15);\n",
              "      fill: #174EA6;\n",
              "    }\n",
              "\n",
              "    [theme=dark] .colab-df-convert {\n",
              "      background-color: #3B4455;\n",
              "      fill: #D2E3FC;\n",
              "    }\n",
              "\n",
              "    [theme=dark] .colab-df-convert:hover {\n",
              "      background-color: #434B5C;\n",
              "      box-shadow: 0px 1px 3px 1px rgba(0, 0, 0, 0.15);\n",
              "      filter: drop-shadow(0px 1px 2px rgba(0, 0, 0, 0.3));\n",
              "      fill: #FFFFFF;\n",
              "    }\n",
              "  </style>\n",
              "\n",
              "      <script>\n",
              "        const buttonEl =\n",
              "          document.querySelector('#df-a78b0690-64d5-414e-9949-cafa0efc1e03 button.colab-df-convert');\n",
              "        buttonEl.style.display =\n",
              "          google.colab.kernel.accessAllowed ? 'block' : 'none';\n",
              "\n",
              "        async function convertToInteractive(key) {\n",
              "          const element = document.querySelector('#df-a78b0690-64d5-414e-9949-cafa0efc1e03');\n",
              "          const dataTable =\n",
              "            await google.colab.kernel.invokeFunction('convertToInteractive',\n",
              "                                                     [key], {});\n",
              "          if (!dataTable) return;\n",
              "\n",
              "          const docLinkHtml = 'Like what you see? Visit the ' +\n",
              "            '<a target=\"_blank\" href=https://colab.research.google.com/notebooks/data_table.ipynb>data table notebook</a>'\n",
              "            + ' to learn more about interactive tables.';\n",
              "          element.innerHTML = '';\n",
              "          dataTable['output_type'] = 'display_data';\n",
              "          await google.colab.output.renderOutput(dataTable, element);\n",
              "          const docLink = document.createElement('div');\n",
              "          docLink.innerHTML = docLinkHtml;\n",
              "          element.appendChild(docLink);\n",
              "        }\n",
              "      </script>\n",
              "    </div>\n",
              "  </div>\n",
              "  "
            ]
          },
          "metadata": {},
          "execution_count": 47
        }
      ]
    },
    {
      "cell_type": "code",
      "execution_count": null,
      "id": "571ebd26",
      "metadata": {
        "colab": {
          "base_uri": "https://localhost:8080/"
        },
        "id": "571ebd26",
        "outputId": "d076cebe-024e-4691-8ad1-89be120a8343"
      },
      "outputs": [
        {
          "output_type": "execute_result",
          "data": {
            "text/plain": [
              "(957, 14)"
            ]
          },
          "metadata": {},
          "execution_count": 81
        }
      ],
      "source": [
        "X_train.shape"
      ]
    },
    {
      "cell_type": "code",
      "execution_count": null,
      "id": "acf06dba",
      "metadata": {
        "colab": {
          "base_uri": "https://localhost:8080/"
        },
        "id": "acf06dba",
        "outputId": "c0955b07-fd0d-4d5c-de70-6d5d2b602fe0"
      },
      "outputs": [
        {
          "output_type": "execute_result",
          "data": {
            "text/plain": [
              "(957,)"
            ]
          },
          "metadata": {},
          "execution_count": 82
        }
      ],
      "source": [
        "y_train.shape"
      ]
    },
    {
      "cell_type": "code",
      "execution_count": null,
      "id": "5e194e0d",
      "metadata": {
        "id": "5e194e0d"
      },
      "outputs": [],
      "source": [
        "from sklearn import preprocessing\n",
        "from sklearn.linear_model import LogisticRegression\n",
        "lab_enc = preprocessing.LabelEncoder()\n",
        "training_scores_encoded = lab_enc.fit_transform(y_train)\n",
        "text_scores_encoded = lab_enc.fit_transform(y_test)\n",
        "# print(training_scores_encoded)\n",
        "# print(utils.multiclass.type_of_target(y_train))\n",
        "# print(utils.multiclass.type_of_target(y_train.astype('int')))\n",
        "# print(utils.multiclass.type_of_target(training_scores_encoded))\n",
        "# print(utils.multiclass.type_of_target(text_scores_encoded))"
      ]
    },
    {
      "cell_type": "code",
      "execution_count": null,
      "id": "23dabfb2",
      "metadata": {
        "colab": {
          "base_uri": "https://localhost:8080/",
          "height": 487
        },
        "id": "23dabfb2",
        "outputId": "2a9fbfe7-63f0-44d1-8c2e-54d2e4bf0817"
      },
      "outputs": [
        {
          "output_type": "execute_result",
          "data": {
            "text/plain": [
              "                     date  quarter  department   day  team  \\\n",
              "1189  1426032000000000000      2.0         1.0  30.0     8   \n",
              "1101  1425686400000000000      1.0         1.0  60.0     2   \n",
              "525   1422662400000000000      5.0         2.0  60.0     9   \n",
              "1109  1425772800000000000      2.0         2.0  70.0     1   \n",
              "336   1421625600000000000      3.0         1.0  10.0    12   \n",
              "...                   ...      ...         ...   ...   ...   \n",
              "332   1421625600000000000      3.0         1.0  10.0     7   \n",
              "101   1420502400000000000      1.0         2.0  20.0     8   \n",
              "418   1422144000000000000      4.0         2.0  70.0     1   \n",
              "273   1421280000000000000      3.0         1.0  40.0     4   \n",
              "780   1423958400000000000      3.0         1.0  70.0     4   \n",
              "\n",
              "      targeted_productivity    smv  over_time  incentive  idle_time  idle_men  \\\n",
              "1189                   0.70  30.48       6840         30        0.0         0   \n",
              "1101                   0.65  16.10       4200          0        0.0         0   \n",
              "525                    0.75   3.94        240          0        0.0         0   \n",
              "1109                   0.75   3.94        960          0        0.0         0   \n",
              "336                    0.35  15.26       6120         23        0.0         0   \n",
              "...                     ...    ...        ...        ...        ...       ...   \n",
              "332                    0.80  48.84      10260         30        0.0         0   \n",
              "101                    0.80   2.90       1440          0        0.0         0   \n",
              "418                    0.70   3.94       1440          0        0.0         0   \n",
              "273                    0.65  22.52      10080         26        0.0         0   \n",
              "780                    0.75  30.10       7140          0        0.0         0   \n",
              "\n",
              "      no_of_style_change  no_of_workers  actual_productivity  \n",
              "1189                   1           57.0             0.700505  \n",
              "1101                   1           45.0             0.650240  \n",
              "525                    0            2.0             0.971867  \n",
              "1109                   0            8.0             0.890604  \n",
              "336                    0           34.0             0.350218  \n",
              "...                  ...            ...                  ...  \n",
              "332                    0           57.0             0.576460  \n",
              "101                    0            8.0             0.681061  \n",
              "418                    0            8.0             0.970076  \n",
              "273                    0           56.0             0.650131  \n",
              "780                    1           59.5             0.598627  \n",
              "\n",
              "[240 rows x 14 columns]"
            ],
            "text/html": [
              "\n",
              "  <div id=\"df-cfa5899a-e8e3-4181-aab3-4eac34f65eb3\">\n",
              "    <div class=\"colab-df-container\">\n",
              "      <div>\n",
              "<style scoped>\n",
              "    .dataframe tbody tr th:only-of-type {\n",
              "        vertical-align: middle;\n",
              "    }\n",
              "\n",
              "    .dataframe tbody tr th {\n",
              "        vertical-align: top;\n",
              "    }\n",
              "\n",
              "    .dataframe thead th {\n",
              "        text-align: right;\n",
              "    }\n",
              "</style>\n",
              "<table border=\"1\" class=\"dataframe\">\n",
              "  <thead>\n",
              "    <tr style=\"text-align: right;\">\n",
              "      <th></th>\n",
              "      <th>date</th>\n",
              "      <th>quarter</th>\n",
              "      <th>department</th>\n",
              "      <th>day</th>\n",
              "      <th>team</th>\n",
              "      <th>targeted_productivity</th>\n",
              "      <th>smv</th>\n",
              "      <th>over_time</th>\n",
              "      <th>incentive</th>\n",
              "      <th>idle_time</th>\n",
              "      <th>idle_men</th>\n",
              "      <th>no_of_style_change</th>\n",
              "      <th>no_of_workers</th>\n",
              "      <th>actual_productivity</th>\n",
              "    </tr>\n",
              "  </thead>\n",
              "  <tbody>\n",
              "    <tr>\n",
              "      <th>1189</th>\n",
              "      <td>1426032000000000000</td>\n",
              "      <td>2.0</td>\n",
              "      <td>1.0</td>\n",
              "      <td>30.0</td>\n",
              "      <td>8</td>\n",
              "      <td>0.70</td>\n",
              "      <td>30.48</td>\n",
              "      <td>6840</td>\n",
              "      <td>30</td>\n",
              "      <td>0.0</td>\n",
              "      <td>0</td>\n",
              "      <td>1</td>\n",
              "      <td>57.0</td>\n",
              "      <td>0.700505</td>\n",
              "    </tr>\n",
              "    <tr>\n",
              "      <th>1101</th>\n",
              "      <td>1425686400000000000</td>\n",
              "      <td>1.0</td>\n",
              "      <td>1.0</td>\n",
              "      <td>60.0</td>\n",
              "      <td>2</td>\n",
              "      <td>0.65</td>\n",
              "      <td>16.10</td>\n",
              "      <td>4200</td>\n",
              "      <td>0</td>\n",
              "      <td>0.0</td>\n",
              "      <td>0</td>\n",
              "      <td>1</td>\n",
              "      <td>45.0</td>\n",
              "      <td>0.650240</td>\n",
              "    </tr>\n",
              "    <tr>\n",
              "      <th>525</th>\n",
              "      <td>1422662400000000000</td>\n",
              "      <td>5.0</td>\n",
              "      <td>2.0</td>\n",
              "      <td>60.0</td>\n",
              "      <td>9</td>\n",
              "      <td>0.75</td>\n",
              "      <td>3.94</td>\n",
              "      <td>240</td>\n",
              "      <td>0</td>\n",
              "      <td>0.0</td>\n",
              "      <td>0</td>\n",
              "      <td>0</td>\n",
              "      <td>2.0</td>\n",
              "      <td>0.971867</td>\n",
              "    </tr>\n",
              "    <tr>\n",
              "      <th>1109</th>\n",
              "      <td>1425772800000000000</td>\n",
              "      <td>2.0</td>\n",
              "      <td>2.0</td>\n",
              "      <td>70.0</td>\n",
              "      <td>1</td>\n",
              "      <td>0.75</td>\n",
              "      <td>3.94</td>\n",
              "      <td>960</td>\n",
              "      <td>0</td>\n",
              "      <td>0.0</td>\n",
              "      <td>0</td>\n",
              "      <td>0</td>\n",
              "      <td>8.0</td>\n",
              "      <td>0.890604</td>\n",
              "    </tr>\n",
              "    <tr>\n",
              "      <th>336</th>\n",
              "      <td>1421625600000000000</td>\n",
              "      <td>3.0</td>\n",
              "      <td>1.0</td>\n",
              "      <td>10.0</td>\n",
              "      <td>12</td>\n",
              "      <td>0.35</td>\n",
              "      <td>15.26</td>\n",
              "      <td>6120</td>\n",
              "      <td>23</td>\n",
              "      <td>0.0</td>\n",
              "      <td>0</td>\n",
              "      <td>0</td>\n",
              "      <td>34.0</td>\n",
              "      <td>0.350218</td>\n",
              "    </tr>\n",
              "    <tr>\n",
              "      <th>...</th>\n",
              "      <td>...</td>\n",
              "      <td>...</td>\n",
              "      <td>...</td>\n",
              "      <td>...</td>\n",
              "      <td>...</td>\n",
              "      <td>...</td>\n",
              "      <td>...</td>\n",
              "      <td>...</td>\n",
              "      <td>...</td>\n",
              "      <td>...</td>\n",
              "      <td>...</td>\n",
              "      <td>...</td>\n",
              "      <td>...</td>\n",
              "      <td>...</td>\n",
              "    </tr>\n",
              "    <tr>\n",
              "      <th>332</th>\n",
              "      <td>1421625600000000000</td>\n",
              "      <td>3.0</td>\n",
              "      <td>1.0</td>\n",
              "      <td>10.0</td>\n",
              "      <td>7</td>\n",
              "      <td>0.80</td>\n",
              "      <td>48.84</td>\n",
              "      <td>10260</td>\n",
              "      <td>30</td>\n",
              "      <td>0.0</td>\n",
              "      <td>0</td>\n",
              "      <td>0</td>\n",
              "      <td>57.0</td>\n",
              "      <td>0.576460</td>\n",
              "    </tr>\n",
              "    <tr>\n",
              "      <th>101</th>\n",
              "      <td>1420502400000000000</td>\n",
              "      <td>1.0</td>\n",
              "      <td>2.0</td>\n",
              "      <td>20.0</td>\n",
              "      <td>8</td>\n",
              "      <td>0.80</td>\n",
              "      <td>2.90</td>\n",
              "      <td>1440</td>\n",
              "      <td>0</td>\n",
              "      <td>0.0</td>\n",
              "      <td>0</td>\n",
              "      <td>0</td>\n",
              "      <td>8.0</td>\n",
              "      <td>0.681061</td>\n",
              "    </tr>\n",
              "    <tr>\n",
              "      <th>418</th>\n",
              "      <td>1422144000000000000</td>\n",
              "      <td>4.0</td>\n",
              "      <td>2.0</td>\n",
              "      <td>70.0</td>\n",
              "      <td>1</td>\n",
              "      <td>0.70</td>\n",
              "      <td>3.94</td>\n",
              "      <td>1440</td>\n",
              "      <td>0</td>\n",
              "      <td>0.0</td>\n",
              "      <td>0</td>\n",
              "      <td>0</td>\n",
              "      <td>8.0</td>\n",
              "      <td>0.970076</td>\n",
              "    </tr>\n",
              "    <tr>\n",
              "      <th>273</th>\n",
              "      <td>1421280000000000000</td>\n",
              "      <td>3.0</td>\n",
              "      <td>1.0</td>\n",
              "      <td>40.0</td>\n",
              "      <td>4</td>\n",
              "      <td>0.65</td>\n",
              "      <td>22.52</td>\n",
              "      <td>10080</td>\n",
              "      <td>26</td>\n",
              "      <td>0.0</td>\n",
              "      <td>0</td>\n",
              "      <td>0</td>\n",
              "      <td>56.0</td>\n",
              "      <td>0.650131</td>\n",
              "    </tr>\n",
              "    <tr>\n",
              "      <th>780</th>\n",
              "      <td>1423958400000000000</td>\n",
              "      <td>3.0</td>\n",
              "      <td>1.0</td>\n",
              "      <td>70.0</td>\n",
              "      <td>4</td>\n",
              "      <td>0.75</td>\n",
              "      <td>30.10</td>\n",
              "      <td>7140</td>\n",
              "      <td>0</td>\n",
              "      <td>0.0</td>\n",
              "      <td>0</td>\n",
              "      <td>1</td>\n",
              "      <td>59.5</td>\n",
              "      <td>0.598627</td>\n",
              "    </tr>\n",
              "  </tbody>\n",
              "</table>\n",
              "<p>240 rows × 14 columns</p>\n",
              "</div>\n",
              "      <button class=\"colab-df-convert\" onclick=\"convertToInteractive('df-cfa5899a-e8e3-4181-aab3-4eac34f65eb3')\"\n",
              "              title=\"Convert this dataframe to an interactive table.\"\n",
              "              style=\"display:none;\">\n",
              "        \n",
              "  <svg xmlns=\"http://www.w3.org/2000/svg\" height=\"24px\"viewBox=\"0 0 24 24\"\n",
              "       width=\"24px\">\n",
              "    <path d=\"M0 0h24v24H0V0z\" fill=\"none\"/>\n",
              "    <path d=\"M18.56 5.44l.94 2.06.94-2.06 2.06-.94-2.06-.94-.94-2.06-.94 2.06-2.06.94zm-11 1L8.5 8.5l.94-2.06 2.06-.94-2.06-.94L8.5 2.5l-.94 2.06-2.06.94zm10 10l.94 2.06.94-2.06 2.06-.94-2.06-.94-.94-2.06-.94 2.06-2.06.94z\"/><path d=\"M17.41 7.96l-1.37-1.37c-.4-.4-.92-.59-1.43-.59-.52 0-1.04.2-1.43.59L10.3 9.45l-7.72 7.72c-.78.78-.78 2.05 0 2.83L4 21.41c.39.39.9.59 1.41.59.51 0 1.02-.2 1.41-.59l7.78-7.78 2.81-2.81c.8-.78.8-2.07 0-2.86zM5.41 20L4 18.59l7.72-7.72 1.47 1.35L5.41 20z\"/>\n",
              "  </svg>\n",
              "      </button>\n",
              "      \n",
              "  <style>\n",
              "    .colab-df-container {\n",
              "      display:flex;\n",
              "      flex-wrap:wrap;\n",
              "      gap: 12px;\n",
              "    }\n",
              "\n",
              "    .colab-df-convert {\n",
              "      background-color: #E8F0FE;\n",
              "      border: none;\n",
              "      border-radius: 50%;\n",
              "      cursor: pointer;\n",
              "      display: none;\n",
              "      fill: #1967D2;\n",
              "      height: 32px;\n",
              "      padding: 0 0 0 0;\n",
              "      width: 32px;\n",
              "    }\n",
              "\n",
              "    .colab-df-convert:hover {\n",
              "      background-color: #E2EBFA;\n",
              "      box-shadow: 0px 1px 2px rgba(60, 64, 67, 0.3), 0px 1px 3px 1px rgba(60, 64, 67, 0.15);\n",
              "      fill: #174EA6;\n",
              "    }\n",
              "\n",
              "    [theme=dark] .colab-df-convert {\n",
              "      background-color: #3B4455;\n",
              "      fill: #D2E3FC;\n",
              "    }\n",
              "\n",
              "    [theme=dark] .colab-df-convert:hover {\n",
              "      background-color: #434B5C;\n",
              "      box-shadow: 0px 1px 3px 1px rgba(0, 0, 0, 0.15);\n",
              "      filter: drop-shadow(0px 1px 2px rgba(0, 0, 0, 0.3));\n",
              "      fill: #FFFFFF;\n",
              "    }\n",
              "  </style>\n",
              "\n",
              "      <script>\n",
              "        const buttonEl =\n",
              "          document.querySelector('#df-cfa5899a-e8e3-4181-aab3-4eac34f65eb3 button.colab-df-convert');\n",
              "        buttonEl.style.display =\n",
              "          google.colab.kernel.accessAllowed ? 'block' : 'none';\n",
              "\n",
              "        async function convertToInteractive(key) {\n",
              "          const element = document.querySelector('#df-cfa5899a-e8e3-4181-aab3-4eac34f65eb3');\n",
              "          const dataTable =\n",
              "            await google.colab.kernel.invokeFunction('convertToInteractive',\n",
              "                                                     [key], {});\n",
              "          if (!dataTable) return;\n",
              "\n",
              "          const docLinkHtml = 'Like what you see? Visit the ' +\n",
              "            '<a target=\"_blank\" href=https://colab.research.google.com/notebooks/data_table.ipynb>data table notebook</a>'\n",
              "            + ' to learn more about interactive tables.';\n",
              "          element.innerHTML = '';\n",
              "          dataTable['output_type'] = 'display_data';\n",
              "          await google.colab.output.renderOutput(dataTable, element);\n",
              "          const docLink = document.createElement('div');\n",
              "          docLink.innerHTML = docLinkHtml;\n",
              "          element.appendChild(docLink);\n",
              "        }\n",
              "      </script>\n",
              "    </div>\n",
              "  </div>\n",
              "  "
            ]
          },
          "metadata": {},
          "execution_count": 84
        }
      ],
      "source": [
        "X_test.fillna(X_test.mean())"
      ]
    },
    {
      "cell_type": "code",
      "source": [
        ""
      ],
      "metadata": {
        "id": "n83Gc87SOY7-"
      },
      "id": "n83Gc87SOY7-",
      "execution_count": null,
      "outputs": []
    },
    {
      "cell_type": "code",
      "execution_count": null,
      "id": "ec0d9649",
      "metadata": {
        "scrolled": false,
        "colab": {
          "base_uri": "https://localhost:8080/",
          "height": 1000
        },
        "id": "ec0d9649",
        "outputId": "2c8ab5ce-1cf7-4d5a-d144-b4be90c1eb2c"
      },
      "outputs": [
        {
          "output_type": "execute_result",
          "data": {
            "text/plain": [
              "[Text(0.5851172972261236, 0.9772727272727273, 'X[12] <= 8.5\\ngini = 0.916\\nsamples = 957\\nvalue = [5, 1, 2, 1, 3, 214, 34, 48, 1, 31, 2, 27, 1\\n3, 10, 3, 10, 2, 1, 4, 1, 1, 1, 6, 3, 13, 4\\n18, 1, 36, 5, 3, 2, 1, 1, 4, 2, 1, 1, 1, 7\\n4, 1, 20, 7, 16, 2, 18, 3, 44, 42, 79, 22, 93\\n20, 60, 4, 6, 1]'),\n",
              " Text(0.4644487359550562, 0.9318181818181818, 'X[12] <= 7.5\\ngini = 0.103\\nsamples = 226\\nvalue = [5, 1, 2, 1, 3, 214, 0, 0, 0, 0, 0, 0, 0, 0\\n0, 0, 0, 0, 0, 0, 0, 0, 0, 0, 0, 0, 0, 0\\n0, 0, 0, 0, 0, 0, 0, 0, 0, 0, 0, 0, 0, 0\\n0, 0, 0, 0, 0, 0, 0, 0, 0, 0, 0, 0, 0, 0\\n0, 0, 0]'),\n",
              " Text(0.44197682584269665, 0.8863636363636364, 'X[12] <= 3.0\\ngini = 0.722\\nsamples = 12\\nvalue = [5, 1, 2, 1, 3, 0, 0, 0, 0, 0, 0, 0, 0, 0\\n0, 0, 0, 0, 0, 0, 0, 0, 0, 0, 0, 0, 0, 0\\n0, 0, 0, 0, 0, 0, 0, 0, 0, 0, 0, 0, 0, 0\\n0, 0, 0, 0, 0, 0, 0, 0, 0, 0, 0, 0, 0, 0\\n0, 0, 0]'),\n",
              " Text(0.4195049157303371, 0.8409090909090909, 'gini = 0.0\\nsamples = 5\\nvalue = [5, 0, 0, 0, 0, 0, 0, 0, 0, 0, 0, 0, 0, 0\\n0, 0, 0, 0, 0, 0, 0, 0, 0, 0, 0, 0, 0, 0\\n0, 0, 0, 0, 0, 0, 0, 0, 0, 0, 0, 0, 0, 0\\n0, 0, 0, 0, 0, 0, 0, 0, 0, 0, 0, 0, 0, 0\\n0, 0, 0]'),\n",
              " Text(0.4644487359550562, 0.8409090909090909, 'X[6] <= 4.045\\ngini = 0.694\\nsamples = 7\\nvalue = [0, 1, 2, 1, 3, 0, 0, 0, 0, 0, 0, 0, 0, 0\\n0, 0, 0, 0, 0, 0, 0, 0, 0, 0, 0, 0, 0, 0\\n0, 0, 0, 0, 0, 0, 0, 0, 0, 0, 0, 0, 0, 0\\n0, 0, 0, 0, 0, 0, 0, 0, 0, 0, 0, 0, 0, 0\\n0, 0, 0]'),\n",
              " Text(0.44197682584269665, 0.7954545454545454, 'X[13] <= 0.43\\ngini = 0.625\\nsamples = 4\\nvalue = [0, 1, 2, 1, 0, 0, 0, 0, 0, 0, 0, 0, 0, 0\\n0, 0, 0, 0, 0, 0, 0, 0, 0, 0, 0, 0, 0, 0\\n0, 0, 0, 0, 0, 0, 0, 0, 0, 0, 0, 0, 0, 0\\n0, 0, 0, 0, 0, 0, 0, 0, 0, 0, 0, 0, 0, 0\\n0, 0, 0]'),\n",
              " Text(0.4195049157303371, 0.75, 'X[5] <= 0.75\\ngini = 0.5\\nsamples = 2\\nvalue = [0, 1, 0, 1, 0, 0, 0, 0, 0, 0, 0, 0, 0, 0\\n0, 0, 0, 0, 0, 0, 0, 0, 0, 0, 0, 0, 0, 0\\n0, 0, 0, 0, 0, 0, 0, 0, 0, 0, 0, 0, 0, 0\\n0, 0, 0, 0, 0, 0, 0, 0, 0, 0, 0, 0, 0, 0\\n0, 0, 0]'),\n",
              " Text(0.39703300561797755, 0.7045454545454546, 'gini = 0.0\\nsamples = 1\\nvalue = [0, 0, 0, 1, 0, 0, 0, 0, 0, 0, 0, 0, 0, 0\\n0, 0, 0, 0, 0, 0, 0, 0, 0, 0, 0, 0, 0, 0\\n0, 0, 0, 0, 0, 0, 0, 0, 0, 0, 0, 0, 0, 0\\n0, 0, 0, 0, 0, 0, 0, 0, 0, 0, 0, 0, 0, 0\\n0, 0, 0]'),\n",
              " Text(0.44197682584269665, 0.7045454545454546, 'gini = 0.0\\nsamples = 1\\nvalue = [0, 1, 0, 0, 0, 0, 0, 0, 0, 0, 0, 0, 0, 0\\n0, 0, 0, 0, 0, 0, 0, 0, 0, 0, 0, 0, 0, 0\\n0, 0, 0, 0, 0, 0, 0, 0, 0, 0, 0, 0, 0, 0\\n0, 0, 0, 0, 0, 0, 0, 0, 0, 0, 0, 0, 0, 0\\n0, 0, 0]'),\n",
              " Text(0.4644487359550562, 0.75, 'gini = 0.0\\nsamples = 2\\nvalue = [0, 0, 2, 0, 0, 0, 0, 0, 0, 0, 0, 0, 0, 0\\n0, 0, 0, 0, 0, 0, 0, 0, 0, 0, 0, 0, 0, 0\\n0, 0, 0, 0, 0, 0, 0, 0, 0, 0, 0, 0, 0, 0\\n0, 0, 0, 0, 0, 0, 0, 0, 0, 0, 0, 0, 0, 0\\n0, 0, 0]'),\n",
              " Text(0.48692064606741575, 0.7954545454545454, 'gini = 0.0\\nsamples = 3\\nvalue = [0, 0, 0, 0, 3, 0, 0, 0, 0, 0, 0, 0, 0, 0\\n0, 0, 0, 0, 0, 0, 0, 0, 0, 0, 0, 0, 0, 0\\n0, 0, 0, 0, 0, 0, 0, 0, 0, 0, 0, 0, 0, 0\\n0, 0, 0, 0, 0, 0, 0, 0, 0, 0, 0, 0, 0, 0\\n0, 0, 0]'),\n",
              " Text(0.48692064606741575, 0.8863636363636364, 'gini = 0.0\\nsamples = 214\\nvalue = [0, 0, 0, 0, 0, 214, 0, 0, 0, 0, 0, 0, 0, 0\\n0, 0, 0, 0, 0, 0, 0, 0, 0, 0, 0, 0, 0, 0\\n0, 0, 0, 0, 0, 0, 0, 0, 0, 0, 0, 0, 0, 0\\n0, 0, 0, 0, 0, 0, 0, 0, 0, 0, 0, 0, 0, 0\\n0, 0, 0]'),\n",
              " Text(0.705785858497191, 0.9318181818181818, 'X[12] <= 57.75\\ngini = 0.941\\nsamples = 731\\nvalue = [0, 0, 0, 0, 0, 0, 34, 48, 1, 31, 2, 27, 1, 3\\n10, 3, 10, 2, 1, 4, 1, 1, 1, 6, 3, 13, 4, 18\\n1, 36, 5, 3, 2, 1, 1, 4, 2, 1, 1, 1, 7, 4\\n1, 20, 7, 16, 2, 18, 3, 44, 42, 79, 22, 93, 20\\n60, 4, 6, 1]'),\n",
              " Text(0.6496060832162921, 0.8863636363636364, 'X[12] <= 56.75\\ngini = 0.937\\nsamples = 547\\nvalue = [0, 0, 0, 0, 0, 0, 34, 48, 1, 31, 2, 27, 1, 3\\n10, 3, 10, 2, 1, 4, 1, 1, 1, 6, 3, 13, 4, 18\\n1, 36, 5, 3, 2, 1, 1, 4, 2, 1, 1, 1, 7, 4\\n1, 20, 7, 16, 2, 18, 3, 44, 42, 79, 22, 0, 0\\n0, 0, 0, 0]'),\n",
              " Text(0.604662262991573, 0.8409090909090909, 'X[12] <= 56.25\\ngini = 0.939\\nsamples = 446\\nvalue = [0, 0, 0, 0, 0, 0, 34, 48, 1, 31, 2, 27, 1, 3\\n10, 3, 10, 2, 1, 4, 1, 1, 1, 6, 3, 13, 4, 18\\n1, 36, 5, 3, 2, 1, 1, 4, 2, 1, 1, 1, 7, 4\\n1, 20, 7, 16, 2, 18, 3, 44, 42, 0, 0, 0, 0\\n0, 0, 0, 0]'),\n",
              " Text(0.5821903528792135, 0.7954545454545454, 'X[12] <= 55.75\\ngini = 0.937\\nsamples = 404\\nvalue = [0, 0, 0, 0, 0, 0, 34, 48, 1, 31, 2, 27, 1, 3\\n10, 3, 10, 2, 1, 4, 1, 1, 1, 6, 3, 13, 4, 18\\n1, 36, 5, 3, 2, 1, 1, 4, 2, 1, 1, 1, 7, 4\\n1, 20, 7, 16, 2, 18, 3, 44, 0, 0, 0, 0, 0, 0\\n0, 0, 0]'),\n",
              " Text(0.5597184427668539, 0.75, 'X[12] <= 10.5\\ngini = 0.935\\nsamples = 360\\nvalue = [0, 0, 0, 0, 0, 0, 34, 48, 1, 31, 2, 27, 1, 3\\n10, 3, 10, 2, 1, 4, 1, 1, 1, 6, 3, 13, 4, 18\\n1, 36, 5, 3, 2, 1, 1, 4, 2, 1, 1, 1, 7, 4\\n1, 20, 7, 16, 2, 18, 3, 0, 0, 0, 0, 0, 0, 0\\n0, 0, 0]'),\n",
              " Text(0.48692064606741575, 0.7045454545454546, 'X[12] <= 9.5\\ngini = 0.485\\nsamples = 82\\nvalue = [0, 0, 0, 0, 0, 0, 34, 48, 0, 0, 0, 0, 0, 0\\n0, 0, 0, 0, 0, 0, 0, 0, 0, 0, 0, 0, 0, 0\\n0, 0, 0, 0, 0, 0, 0, 0, 0, 0, 0, 0, 0, 0\\n0, 0, 0, 0, 0, 0, 0, 0, 0, 0, 0, 0, 0, 0\\n0, 0, 0]'),\n",
              " Text(0.4644487359550562, 0.6590909090909091, 'gini = 0.0\\nsamples = 34\\nvalue = [0, 0, 0, 0, 0, 0, 34, 0, 0, 0, 0, 0, 0, 0\\n0, 0, 0, 0, 0, 0, 0, 0, 0, 0, 0, 0, 0, 0\\n0, 0, 0, 0, 0, 0, 0, 0, 0, 0, 0, 0, 0, 0\\n0, 0, 0, 0, 0, 0, 0, 0, 0, 0, 0, 0, 0, 0\\n0, 0, 0]'),\n",
              " Text(0.5093925561797753, 0.6590909090909091, 'gini = 0.0\\nsamples = 48\\nvalue = [0, 0, 0, 0, 0, 0, 0, 48, 0, 0, 0, 0, 0, 0\\n0, 0, 0, 0, 0, 0, 0, 0, 0, 0, 0, 0, 0, 0\\n0, 0, 0, 0, 0, 0, 0, 0, 0, 0, 0, 0, 0, 0\\n0, 0, 0, 0, 0, 0, 0, 0, 0, 0, 0, 0, 0, 0\\n0, 0, 0]'),\n",
              " Text(0.6325162394662921, 0.7045454545454546, 'X[12] <= 13.0\\ngini = 0.936\\nsamples = 278\\nvalue = [0, 0, 0, 0, 0, 0, 0, 0, 1, 31, 2, 27, 1, 3\\n10, 3, 10, 2, 1, 4, 1, 1, 1, 6, 3, 13, 4, 18\\n1, 36, 5, 3, 2, 1, 1, 4, 2, 1, 1, 1, 7, 4\\n1, 20, 7, 16, 2, 18, 3, 0, 0, 0, 0, 0, 0, 0\\n0, 0, 0]'),\n",
              " Text(0.5543363764044944, 0.6590909090909091, 'X[12] <= 11.5\\ngini = 0.061\\nsamples = 32\\nvalue = [0, 0, 0, 0, 0, 0, 0, 0, 1, 31, 0, 0, 0, 0\\n0, 0, 0, 0, 0, 0, 0, 0, 0, 0, 0, 0, 0, 0\\n0, 0, 0, 0, 0, 0, 0, 0, 0, 0, 0, 0, 0, 0\\n0, 0, 0, 0, 0, 0, 0, 0, 0, 0, 0, 0, 0, 0\\n0, 0, 0]'),\n",
              " Text(0.5318644662921348, 0.6136363636363636, 'gini = 0.0\\nsamples = 1\\nvalue = [0, 0, 0, 0, 0, 0, 0, 0, 1, 0, 0, 0, 0, 0\\n0, 0, 0, 0, 0, 0, 0, 0, 0, 0, 0, 0, 0, 0\\n0, 0, 0, 0, 0, 0, 0, 0, 0, 0, 0, 0, 0, 0\\n0, 0, 0, 0, 0, 0, 0, 0, 0, 0, 0, 0, 0, 0\\n0, 0, 0]'),\n",
              " Text(0.5768082865168539, 0.6136363636363636, 'gini = 0.0\\nsamples = 31\\nvalue = [0, 0, 0, 0, 0, 0, 0, 0, 0, 31, 0, 0, 0, 0\\n0, 0, 0, 0, 0, 0, 0, 0, 0, 0, 0, 0, 0, 0\\n0, 0, 0, 0, 0, 0, 0, 0, 0, 0, 0, 0, 0, 0\\n0, 0, 0, 0, 0, 0, 0, 0, 0, 0, 0, 0, 0, 0\\n0, 0, 0]'),\n",
              " Text(0.7106961025280899, 0.6590909090909091, 'X[12] <= 15.5\\ngini = 0.934\\nsamples = 246\\nvalue = [0, 0, 0, 0, 0, 0, 0, 0, 0, 0, 2, 27, 1, 3\\n10, 3, 10, 2, 1, 4, 1, 1, 1, 6, 3, 13, 4, 18\\n1, 36, 5, 3, 2, 1, 1, 4, 2, 1, 1, 1, 7, 4\\n1, 20, 7, 16, 2, 18, 3, 0, 0, 0, 0, 0, 0, 0\\n0, 0, 0]'),\n",
              " Text(0.621752106741573, 0.6136363636363636, 'X[12] <= 14.5\\ngini = 0.128\\nsamples = 29\\nvalue = [0, 0, 0, 0, 0, 0, 0, 0, 0, 0, 2, 27, 0, 0\\n0, 0, 0, 0, 0, 0, 0, 0, 0, 0, 0, 0, 0, 0\\n0, 0, 0, 0, 0, 0, 0, 0, 0, 0, 0, 0, 0, 0\\n0, 0, 0, 0, 0, 0, 0, 0, 0, 0, 0, 0, 0, 0\\n0, 0, 0]'),\n",
              " Text(0.5992801966292135, 0.5681818181818182, 'gini = 0.0\\nsamples = 2\\nvalue = [0, 0, 0, 0, 0, 0, 0, 0, 0, 0, 2, 0, 0, 0\\n0, 0, 0, 0, 0, 0, 0, 0, 0, 0, 0, 0, 0, 0\\n0, 0, 0, 0, 0, 0, 0, 0, 0, 0, 0, 0, 0, 0\\n0, 0, 0, 0, 0, 0, 0, 0, 0, 0, 0, 0, 0, 0\\n0, 0, 0]'),\n",
              " Text(0.6442240168539326, 0.5681818181818182, 'gini = 0.0\\nsamples = 27\\nvalue = [0, 0, 0, 0, 0, 0, 0, 0, 0, 0, 0, 27, 0, 0\\n0, 0, 0, 0, 0, 0, 0, 0, 0, 0, 0, 0, 0, 0\\n0, 0, 0, 0, 0, 0, 0, 0, 0, 0, 0, 0, 0, 0\\n0, 0, 0, 0, 0, 0, 0, 0, 0, 0, 0, 0, 0, 0\\n0, 0, 0]'),\n",
              " Text(0.7996400983146067, 0.6136363636363636, 'X[4] <= 11.5\\ngini = 0.931\\nsamples = 217\\nvalue = [0, 0, 0, 0, 0, 0, 0, 0, 0, 0, 0, 0, 1, 3\\n10, 3, 10, 2, 1, 4, 1, 1, 1, 6, 3, 13, 4, 18\\n1, 36, 5, 3, 2, 1, 1, 4, 2, 1, 1, 1, 7, 4\\n1, 20, 7, 16, 2, 18, 3, 0, 0, 0, 0, 0, 0, 0\\n0, 0, 0]'),\n",
              " Text(0.6891678370786517, 0.5681818181818182, 'X[12] <= 54.75\\ngini = 0.937\\nsamples = 169\\nvalue = [0, 0, 0, 0, 0, 0, 0, 0, 0, 0, 0, 0, 1, 3\\n10, 3, 10, 2, 1, 4, 1, 1, 1, 5, 2, 4, 3, 18\\n1, 5, 0, 3, 2, 1, 1, 4, 2, 1, 1, 1, 7, 4\\n1, 20, 7, 16, 2, 18, 3, 0, 0, 0, 0, 0, 0, 0\\n0, 0, 0]'),\n",
              " Text(0.6030547752808989, 0.5227272727272727, 'X[12] <= 53.5\\ngini = 0.933\\nsamples = 148\\nvalue = [0, 0, 0, 0, 0, 0, 0, 0, 0, 0, 0, 0, 1, 3\\n10, 3, 10, 2, 1, 4, 1, 1, 1, 5, 2, 4, 3, 18\\n1, 5, 0, 3, 2, 1, 1, 4, 2, 1, 1, 1, 7, 4\\n1, 20, 7, 16, 2, 0, 0, 0, 0, 0, 0, 0, 0, 0\\n0, 0, 0]'),\n",
              " Text(0.4982443820224719, 0.4772727272727273, 'X[12] <= 51.75\\ngini = 0.929\\nsamples = 130\\nvalue = [0, 0, 0, 0, 0, 0, 0, 0, 0, 0, 0, 0, 1, 3\\n10, 3, 10, 2, 1, 4, 1, 1, 1, 5, 2, 4, 3, 18\\n1, 5, 0, 3, 2, 1, 1, 4, 2, 1, 1, 1, 7, 4\\n1, 20, 7, 0, 0, 0, 0, 0, 0, 0, 0, 0, 0, 0\\n0, 0, 0]'),\n",
              " Text(0.35603932584269665, 0.4318181818181818, 'X[6] <= 18.505\\ngini = 0.929\\nsamples = 103\\nvalue = [0, 0, 0, 0, 0, 0, 0, 0, 0, 0, 0, 0, 1, 3\\n10, 3, 10, 2, 1, 4, 1, 1, 1, 5, 2, 4, 3, 18\\n1, 5, 0, 3, 2, 1, 1, 4, 2, 1, 1, 1, 7, 4\\n1, 0, 0, 0, 0, 0, 0, 0, 0, 0, 0, 0, 0, 0\\n0, 0, 0]'),\n",
              " Text(0.13904494382022473, 0.38636363636363635, 'X[12] <= 18.5\\ngini = 0.908\\nsamples = 59\\nvalue = [0, 0, 0, 0, 0, 0, 0, 0, 0, 0, 0, 0, 1, 3\\n10, 3, 10, 2, 1, 4, 1, 1, 1, 5, 2, 4, 3, 0\\n0, 0, 0, 0, 0, 0, 1, 4, 2, 0, 0, 1, 0, 0\\n0, 0, 0, 0, 0, 0, 0, 0, 0, 0, 0, 0, 0, 0\\n0, 0, 0]'),\n",
              " Text(0.06741573033707865, 0.3409090909090909, 'X[12] <= 17.5\\ngini = 0.439\\nsamples = 14\\nvalue = [0, 0, 0, 0, 0, 0, 0, 0, 0, 0, 0, 0, 1, 3\\n10, 0, 0, 0, 0, 0, 0, 0, 0, 0, 0, 0, 0, 0\\n0, 0, 0, 0, 0, 0, 0, 0, 0, 0, 0, 0, 0, 0\\n0, 0, 0, 0, 0, 0, 0, 0, 0, 0, 0, 0, 0, 0\\n0, 0, 0]'),\n",
              " Text(0.0449438202247191, 0.29545454545454547, 'X[3] <= 20.0\\ngini = 0.375\\nsamples = 4\\nvalue = [0, 0, 0, 0, 0, 0, 0, 0, 0, 0, 0, 0, 1, 3\\n0, 0, 0, 0, 0, 0, 0, 0, 0, 0, 0, 0, 0, 0\\n0, 0, 0, 0, 0, 0, 0, 0, 0, 0, 0, 0, 0, 0\\n0, 0, 0, 0, 0, 0, 0, 0, 0, 0, 0, 0, 0, 0\\n0, 0, 0]'),\n",
              " Text(0.02247191011235955, 0.25, 'gini = 0.0\\nsamples = 1\\nvalue = [0, 0, 0, 0, 0, 0, 0, 0, 0, 0, 0, 0, 1, 0\\n0, 0, 0, 0, 0, 0, 0, 0, 0, 0, 0, 0, 0, 0\\n0, 0, 0, 0, 0, 0, 0, 0, 0, 0, 0, 0, 0, 0\\n0, 0, 0, 0, 0, 0, 0, 0, 0, 0, 0, 0, 0, 0\\n0, 0, 0]'),\n",
              " Text(0.06741573033707865, 0.25, 'gini = 0.0\\nsamples = 3\\nvalue = [0, 0, 0, 0, 0, 0, 0, 0, 0, 0, 0, 0, 0, 3\\n0, 0, 0, 0, 0, 0, 0, 0, 0, 0, 0, 0, 0, 0\\n0, 0, 0, 0, 0, 0, 0, 0, 0, 0, 0, 0, 0, 0\\n0, 0, 0, 0, 0, 0, 0, 0, 0, 0, 0, 0, 0, 0\\n0, 0, 0]'),\n",
              " Text(0.0898876404494382, 0.29545454545454547, 'gini = 0.0\\nsamples = 10\\nvalue = [0, 0, 0, 0, 0, 0, 0, 0, 0, 0, 0, 0, 0, 0\\n10, 0, 0, 0, 0, 0, 0, 0, 0, 0, 0, 0, 0, 0\\n0, 0, 0, 0, 0, 0, 0, 0, 0, 0, 0, 0, 0, 0\\n0, 0, 0, 0, 0, 0, 0, 0, 0, 0, 0, 0, 0, 0\\n0, 0, 0]'),\n",
              " Text(0.21067415730337077, 0.3409090909090909, 'X[12] <= 21.0\\ngini = 0.897\\nsamples = 45\\nvalue = [0, 0, 0, 0, 0, 0, 0, 0, 0, 0, 0, 0, 0, 0\\n0, 3, 10, 2, 1, 4, 1, 1, 1, 5, 2, 4, 3, 0\\n0, 0, 0, 0, 0, 0, 1, 4, 2, 0, 0, 1, 0, 0\\n0, 0, 0, 0, 0, 0, 0, 0, 0, 0, 0, 0, 0, 0\\n0, 0, 0]'),\n",
              " Text(0.1348314606741573, 0.29545454545454547, 'X[12] <= 19.5\\ngini = 0.355\\nsamples = 13\\nvalue = [0, 0, 0, 0, 0, 0, 0, 0, 0, 0, 0, 0, 0, 0\\n0, 3, 10, 0, 0, 0, 0, 0, 0, 0, 0, 0, 0, 0\\n0, 0, 0, 0, 0, 0, 0, 0, 0, 0, 0, 0, 0, 0\\n0, 0, 0, 0, 0, 0, 0, 0, 0, 0, 0, 0, 0, 0\\n0, 0, 0]'),\n",
              " Text(0.11235955056179775, 0.25, 'gini = 0.0\\nsamples = 3\\nvalue = [0, 0, 0, 0, 0, 0, 0, 0, 0, 0, 0, 0, 0, 0\\n0, 3, 0, 0, 0, 0, 0, 0, 0, 0, 0, 0, 0, 0\\n0, 0, 0, 0, 0, 0, 0, 0, 0, 0, 0, 0, 0, 0\\n0, 0, 0, 0, 0, 0, 0, 0, 0, 0, 0, 0, 0, 0\\n0, 0, 0]'),\n",
              " Text(0.15730337078651685, 0.25, 'gini = 0.0\\nsamples = 10\\nvalue = [0, 0, 0, 0, 0, 0, 0, 0, 0, 0, 0, 0, 0, 0\\n0, 0, 10, 0, 0, 0, 0, 0, 0, 0, 0, 0, 0, 0\\n0, 0, 0, 0, 0, 0, 0, 0, 0, 0, 0, 0, 0, 0\\n0, 0, 0, 0, 0, 0, 0, 0, 0, 0, 0, 0, 0, 0\\n0, 0, 0]'),\n",
              " Text(0.28651685393258425, 0.29545454545454547, 'X[12] <= 30.75\\ngini = 0.902\\nsamples = 32\\nvalue = [0, 0, 0, 0, 0, 0, 0, 0, 0, 0, 0, 0, 0, 0\\n0, 0, 0, 2, 1, 4, 1, 1, 1, 5, 2, 4, 3, 0\\n0, 0, 0, 0, 0, 0, 1, 4, 2, 0, 0, 1, 0, 0\\n0, 0, 0, 0, 0, 0, 0, 0, 0, 0, 0, 0, 0, 0\\n0, 0, 0]'),\n",
              " Text(0.20224719101123595, 0.25, 'X[12] <= 30.0\\ngini = 0.782\\nsamples = 15\\nvalue = [0, 0, 0, 0, 0, 0, 0, 0, 0, 0, 0, 0, 0, 0\\n0, 0, 0, 2, 1, 4, 1, 1, 1, 5, 0, 0, 0, 0\\n0, 0, 0, 0, 0, 0, 0, 0, 0, 0, 0, 0, 0, 0\\n0, 0, 0, 0, 0, 0, 0, 0, 0, 0, 0, 0, 0, 0\\n0, 0, 0]'),\n",
              " Text(0.1797752808988764, 0.20454545454545456, 'X[13] <= 0.979\\ngini = 0.76\\nsamples = 10\\nvalue = [0, 0, 0, 0, 0, 0, 0, 0, 0, 0, 0, 0, 0, 0\\n0, 0, 0, 2, 1, 4, 1, 1, 1, 0, 0, 0, 0, 0\\n0, 0, 0, 0, 0, 0, 0, 0, 0, 0, 0, 0, 0, 0\\n0, 0, 0, 0, 0, 0, 0, 0, 0, 0, 0, 0, 0, 0\\n0, 0, 0]'),\n",
              " Text(0.15730337078651685, 0.1590909090909091, 'X[12] <= 26.0\\ngini = 0.688\\nsamples = 8\\nvalue = [0, 0, 0, 0, 0, 0, 0, 0, 0, 0, 0, 0, 0, 0\\n0, 0, 0, 0, 1, 4, 1, 1, 1, 0, 0, 0, 0, 0\\n0, 0, 0, 0, 0, 0, 0, 0, 0, 0, 0, 0, 0, 0\\n0, 0, 0, 0, 0, 0, 0, 0, 0, 0, 0, 0, 0, 0\\n0, 0, 0]'),\n",
              " Text(0.11235955056179775, 0.11363636363636363, 'X[12] <= 24.5\\ngini = 0.32\\nsamples = 5\\nvalue = [0, 0, 0, 0, 0, 0, 0, 0, 0, 0, 0, 0, 0, 0\\n0, 0, 0, 0, 1, 4, 0, 0, 0, 0, 0, 0, 0, 0\\n0, 0, 0, 0, 0, 0, 0, 0, 0, 0, 0, 0, 0, 0\\n0, 0, 0, 0, 0, 0, 0, 0, 0, 0, 0, 0, 0, 0\\n0, 0, 0]'),\n",
              " Text(0.0898876404494382, 0.06818181818181818, 'gini = 0.0\\nsamples = 1\\nvalue = [0, 0, 0, 0, 0, 0, 0, 0, 0, 0, 0, 0, 0, 0\\n0, 0, 0, 0, 1, 0, 0, 0, 0, 0, 0, 0, 0, 0\\n0, 0, 0, 0, 0, 0, 0, 0, 0, 0, 0, 0, 0, 0\\n0, 0, 0, 0, 0, 0, 0, 0, 0, 0, 0, 0, 0, 0\\n0, 0, 0]'),\n",
              " Text(0.1348314606741573, 0.06818181818181818, 'gini = 0.0\\nsamples = 4\\nvalue = [0, 0, 0, 0, 0, 0, 0, 0, 0, 0, 0, 0, 0, 0\\n0, 0, 0, 0, 0, 4, 0, 0, 0, 0, 0, 0, 0, 0\\n0, 0, 0, 0, 0, 0, 0, 0, 0, 0, 0, 0, 0, 0\\n0, 0, 0, 0, 0, 0, 0, 0, 0, 0, 0, 0, 0, 0\\n0, 0, 0]'),\n",
              " Text(0.20224719101123595, 0.11363636363636363, 'X[12] <= 27.5\\ngini = 0.667\\nsamples = 3\\nvalue = [0, 0, 0, 0, 0, 0, 0, 0, 0, 0, 0, 0, 0, 0\\n0, 0, 0, 0, 0, 0, 1, 1, 1, 0, 0, 0, 0, 0\\n0, 0, 0, 0, 0, 0, 0, 0, 0, 0, 0, 0, 0, 0\\n0, 0, 0, 0, 0, 0, 0, 0, 0, 0, 0, 0, 0, 0\\n0, 0, 0]'),\n",
              " Text(0.1797752808988764, 0.06818181818181818, 'gini = 0.0\\nsamples = 1\\nvalue = [0, 0, 0, 0, 0, 0, 0, 0, 0, 0, 0, 0, 0, 0\\n0, 0, 0, 0, 0, 0, 1, 0, 0, 0, 0, 0, 0, 0\\n0, 0, 0, 0, 0, 0, 0, 0, 0, 0, 0, 0, 0, 0\\n0, 0, 0, 0, 0, 0, 0, 0, 0, 0, 0, 0, 0, 0\\n0, 0, 0]'),\n",
              " Text(0.2247191011235955, 0.06818181818181818, 'X[6] <= 7.955\\ngini = 0.5\\nsamples = 2\\nvalue = [0, 0, 0, 0, 0, 0, 0, 0, 0, 0, 0, 0, 0, 0\\n0, 0, 0, 0, 0, 0, 0, 1, 1, 0, 0, 0, 0, 0\\n0, 0, 0, 0, 0, 0, 0, 0, 0, 0, 0, 0, 0, 0\\n0, 0, 0, 0, 0, 0, 0, 0, 0, 0, 0, 0, 0, 0\\n0, 0, 0]'),\n",
              " Text(0.20224719101123595, 0.022727272727272728, 'gini = 0.0\\nsamples = 1\\nvalue = [0, 0, 0, 0, 0, 0, 0, 0, 0, 0, 0, 0, 0, 0\\n0, 0, 0, 0, 0, 0, 0, 1, 0, 0, 0, 0, 0, 0\\n0, 0, 0, 0, 0, 0, 0, 0, 0, 0, 0, 0, 0, 0\\n0, 0, 0, 0, 0, 0, 0, 0, 0, 0, 0, 0, 0, 0\\n0, 0, 0]'),\n",
              " Text(0.24719101123595505, 0.022727272727272728, 'gini = 0.0\\nsamples = 1\\nvalue = [0, 0, 0, 0, 0, 0, 0, 0, 0, 0, 0, 0, 0, 0\\n0, 0, 0, 0, 0, 0, 0, 0, 1, 0, 0, 0, 0, 0\\n0, 0, 0, 0, 0, 0, 0, 0, 0, 0, 0, 0, 0, 0\\n0, 0, 0, 0, 0, 0, 0, 0, 0, 0, 0, 0, 0, 0\\n0, 0, 0]'),\n",
              " Text(0.20224719101123595, 0.1590909090909091, 'gini = 0.0\\nsamples = 2\\nvalue = [0, 0, 0, 0, 0, 0, 0, 0, 0, 0, 0, 0, 0, 0\\n0, 0, 0, 2, 0, 0, 0, 0, 0, 0, 0, 0, 0, 0\\n0, 0, 0, 0, 0, 0, 0, 0, 0, 0, 0, 0, 0, 0\\n0, 0, 0, 0, 0, 0, 0, 0, 0, 0, 0, 0, 0, 0\\n0, 0, 0]'),\n",
              " Text(0.2247191011235955, 0.20454545454545456, 'gini = 0.0\\nsamples = 5\\nvalue = [0, 0, 0, 0, 0, 0, 0, 0, 0, 0, 0, 0, 0, 0\\n0, 0, 0, 0, 0, 0, 0, 0, 0, 5, 0, 0, 0, 0\\n0, 0, 0, 0, 0, 0, 0, 0, 0, 0, 0, 0, 0, 0\\n0, 0, 0, 0, 0, 0, 0, 0, 0, 0, 0, 0, 0, 0\\n0, 0, 0]'),\n",
              " Text(0.3707865168539326, 0.25, 'X[0] <= 1.4247359659974328e+18\\ngini = 0.824\\nsamples = 17\\nvalue = [0, 0, 0, 0, 0, 0, 0, 0, 0, 0, 0, 0, 0, 0\\n0, 0, 0, 0, 0, 0, 0, 0, 0, 0, 2, 4, 3, 0\\n0, 0, 0, 0, 0, 0, 1, 4, 2, 0, 0, 1, 0, 0\\n0, 0, 0, 0, 0, 0, 0, 0, 0, 0, 0, 0, 0, 0\\n0, 0, 0]'),\n",
              " Text(0.3146067415730337, 0.20454545454545456, 'X[12] <= 31.75\\ngini = 0.744\\nsamples = 11\\nvalue = [0, 0, 0, 0, 0, 0, 0, 0, 0, 0, 0, 0, 0, 0\\n0, 0, 0, 0, 0, 0, 0, 0, 0, 0, 2, 4, 3, 0\\n0, 0, 0, 0, 0, 0, 1, 0, 0, 0, 0, 1, 0, 0\\n0, 0, 0, 0, 0, 0, 0, 0, 0, 0, 0, 0, 0, 0\\n0, 0, 0]'),\n",
              " Text(0.2696629213483146, 0.1590909090909091, 'X[13] <= 0.8\\ngini = 0.444\\nsamples = 6\\nvalue = [0, 0, 0, 0, 0, 0, 0, 0, 0, 0, 0, 0, 0, 0\\n0, 0, 0, 0, 0, 0, 0, 0, 0, 0, 2, 4, 0, 0\\n0, 0, 0, 0, 0, 0, 0, 0, 0, 0, 0, 0, 0, 0\\n0, 0, 0, 0, 0, 0, 0, 0, 0, 0, 0, 0, 0, 0\\n0, 0, 0]'),\n",
              " Text(0.24719101123595505, 0.11363636363636363, 'gini = 0.0\\nsamples = 4\\nvalue = [0, 0, 0, 0, 0, 0, 0, 0, 0, 0, 0, 0, 0, 0\\n0, 0, 0, 0, 0, 0, 0, 0, 0, 0, 0, 4, 0, 0\\n0, 0, 0, 0, 0, 0, 0, 0, 0, 0, 0, 0, 0, 0\\n0, 0, 0, 0, 0, 0, 0, 0, 0, 0, 0, 0, 0, 0\\n0, 0, 0]'),\n",
              " Text(0.29213483146067415, 0.11363636363636363, 'gini = 0.0\\nsamples = 2\\nvalue = [0, 0, 0, 0, 0, 0, 0, 0, 0, 0, 0, 0, 0, 0\\n0, 0, 0, 0, 0, 0, 0, 0, 0, 0, 2, 0, 0, 0\\n0, 0, 0, 0, 0, 0, 0, 0, 0, 0, 0, 0, 0, 0\\n0, 0, 0, 0, 0, 0, 0, 0, 0, 0, 0, 0, 0, 0\\n0, 0, 0]'),\n",
              " Text(0.3595505617977528, 0.1590909090909091, 'X[13] <= 0.578\\ngini = 0.56\\nsamples = 5\\nvalue = [0, 0, 0, 0, 0, 0, 0, 0, 0, 0, 0, 0, 0, 0\\n0, 0, 0, 0, 0, 0, 0, 0, 0, 0, 0, 0, 3, 0\\n0, 0, 0, 0, 0, 0, 1, 0, 0, 0, 0, 1, 0, 0\\n0, 0, 0, 0, 0, 0, 0, 0, 0, 0, 0, 0, 0, 0\\n0, 0, 0]'),\n",
              " Text(0.33707865168539325, 0.11363636363636363, 'X[7] <= 2640.0\\ngini = 0.5\\nsamples = 2\\nvalue = [0, 0, 0, 0, 0, 0, 0, 0, 0, 0, 0, 0, 0, 0\\n0, 0, 0, 0, 0, 0, 0, 0, 0, 0, 0, 0, 0, 0\\n0, 0, 0, 0, 0, 0, 1, 0, 0, 0, 0, 1, 0, 0\\n0, 0, 0, 0, 0, 0, 0, 0, 0, 0, 0, 0, 0, 0\\n0, 0, 0]'),\n",
              " Text(0.3146067415730337, 0.06818181818181818, 'gini = 0.0\\nsamples = 1\\nvalue = [0, 0, 0, 0, 0, 0, 0, 0, 0, 0, 0, 0, 0, 0\\n0, 0, 0, 0, 0, 0, 0, 0, 0, 0, 0, 0, 0, 0\\n0, 0, 0, 0, 0, 0, 0, 0, 0, 0, 0, 1, 0, 0\\n0, 0, 0, 0, 0, 0, 0, 0, 0, 0, 0, 0, 0, 0\\n0, 0, 0]'),\n",
              " Text(0.3595505617977528, 0.06818181818181818, 'gini = 0.0\\nsamples = 1\\nvalue = [0, 0, 0, 0, 0, 0, 0, 0, 0, 0, 0, 0, 0, 0\\n0, 0, 0, 0, 0, 0, 0, 0, 0, 0, 0, 0, 0, 0\\n0, 0, 0, 0, 0, 0, 1, 0, 0, 0, 0, 0, 0, 0\\n0, 0, 0, 0, 0, 0, 0, 0, 0, 0, 0, 0, 0, 0\\n0, 0, 0]'),\n",
              " Text(0.38202247191011235, 0.11363636363636363, 'gini = 0.0\\nsamples = 3\\nvalue = [0, 0, 0, 0, 0, 0, 0, 0, 0, 0, 0, 0, 0, 0\\n0, 0, 0, 0, 0, 0, 0, 0, 0, 0, 0, 0, 3, 0\\n0, 0, 0, 0, 0, 0, 0, 0, 0, 0, 0, 0, 0, 0\\n0, 0, 0, 0, 0, 0, 0, 0, 0, 0, 0, 0, 0, 0\\n0, 0, 0]'),\n",
              " Text(0.42696629213483145, 0.20454545454545456, 'X[12] <= 45.5\\ngini = 0.444\\nsamples = 6\\nvalue = [0, 0, 0, 0, 0, 0, 0, 0, 0, 0, 0, 0, 0, 0\\n0, 0, 0, 0, 0, 0, 0, 0, 0, 0, 0, 0, 0, 0\\n0, 0, 0, 0, 0, 0, 0, 4, 2, 0, 0, 0, 0, 0\\n0, 0, 0, 0, 0, 0, 0, 0, 0, 0, 0, 0, 0, 0\\n0, 0, 0]'),\n",
              " Text(0.4044943820224719, 0.1590909090909091, 'gini = 0.0\\nsamples = 4\\nvalue = [0, 0, 0, 0, 0, 0, 0, 0, 0, 0, 0, 0, 0, 0\\n0, 0, 0, 0, 0, 0, 0, 0, 0, 0, 0, 0, 0, 0\\n0, 0, 0, 0, 0, 0, 0, 4, 0, 0, 0, 0, 0, 0\\n0, 0, 0, 0, 0, 0, 0, 0, 0, 0, 0, 0, 0, 0\\n0, 0, 0]'),\n",
              " Text(0.449438202247191, 0.1590909090909091, 'gini = 0.0\\nsamples = 2\\nvalue = [0, 0, 0, 0, 0, 0, 0, 0, 0, 0, 0, 0, 0, 0\\n0, 0, 0, 0, 0, 0, 0, 0, 0, 0, 0, 0, 0, 0\\n0, 0, 0, 0, 0, 0, 0, 0, 2, 0, 0, 0, 0, 0\\n0, 0, 0, 0, 0, 0, 0, 0, 0, 0, 0, 0, 0, 0\\n0, 0, 0]'),\n",
              " Text(0.5730337078651685, 0.38636363636363635, 'X[12] <= 33.25\\ngini = 0.777\\nsamples = 44\\nvalue = [0, 0, 0, 0, 0, 0, 0, 0, 0, 0, 0, 0, 0, 0\\n0, 0, 0, 0, 0, 0, 0, 0, 0, 0, 0, 0, 0, 18\\n1, 5, 0, 3, 2, 1, 0, 0, 0, 1, 1, 0, 7, 4\\n1, 0, 0, 0, 0, 0, 0, 0, 0, 0, 0, 0, 0, 0\\n0, 0, 0]'),\n",
              " Text(0.550561797752809, 0.3409090909090909, 'gini = 0.0\\nsamples = 18\\nvalue = [0, 0, 0, 0, 0, 0, 0, 0, 0, 0, 0, 0, 0, 0\\n0, 0, 0, 0, 0, 0, 0, 0, 0, 0, 0, 0, 0, 18\\n0, 0, 0, 0, 0, 0, 0, 0, 0, 0, 0, 0, 0, 0\\n0, 0, 0, 0, 0, 0, 0, 0, 0, 0, 0, 0, 0, 0\\n0, 0, 0]'),\n",
              " Text(0.5955056179775281, 0.3409090909090909, 'X[7] <= 5880.0\\ngini = 0.84\\nsamples = 26\\nvalue = [0, 0, 0, 0, 0, 0, 0, 0, 0, 0, 0, 0, 0, 0\\n0, 0, 0, 0, 0, 0, 0, 0, 0, 0, 0, 0, 0, 0\\n1, 5, 0, 3, 2, 1, 0, 0, 0, 1, 1, 0, 7, 4\\n1, 0, 0, 0, 0, 0, 0, 0, 0, 0, 0, 0, 0, 0\\n0, 0, 0]'),\n",
              " Text(0.5393258426966292, 0.29545454545454547, 'X[12] <= 36.0\\ngini = 0.824\\nsamples = 17\\nvalue = [0, 0, 0, 0, 0, 0, 0, 0, 0, 0, 0, 0, 0, 0\\n0, 0, 0, 0, 0, 0, 0, 0, 0, 0, 0, 0, 0, 0\\n1, 5, 0, 3, 2, 1, 0, 0, 0, 1, 1, 0, 0, 3\\n0, 0, 0, 0, 0, 0, 0, 0, 0, 0, 0, 0, 0, 0\\n0, 0, 0]'),\n",
              " Text(0.4943820224719101, 0.25, 'X[0] <= 1.4231807755194204e+18\\ngini = 0.278\\nsamples = 6\\nvalue = [0, 0, 0, 0, 0, 0, 0, 0, 0, 0, 0, 0, 0, 0\\n0, 0, 0, 0, 0, 0, 0, 0, 0, 0, 0, 0, 0, 0\\n1, 5, 0, 0, 0, 0, 0, 0, 0, 0, 0, 0, 0, 0\\n0, 0, 0, 0, 0, 0, 0, 0, 0, 0, 0, 0, 0, 0\\n0, 0, 0]'),\n",
              " Text(0.47191011235955055, 0.20454545454545456, 'gini = 0.0\\nsamples = 1\\nvalue = [0, 0, 0, 0, 0, 0, 0, 0, 0, 0, 0, 0, 0, 0\\n0, 0, 0, 0, 0, 0, 0, 0, 0, 0, 0, 0, 0, 0\\n1, 0, 0, 0, 0, 0, 0, 0, 0, 0, 0, 0, 0, 0\\n0, 0, 0, 0, 0, 0, 0, 0, 0, 0, 0, 0, 0, 0\\n0, 0, 0]'),\n",
              " Text(0.5168539325842697, 0.20454545454545456, 'gini = 0.0\\nsamples = 5\\nvalue = [0, 0, 0, 0, 0, 0, 0, 0, 0, 0, 0, 0, 0, 0\\n0, 0, 0, 0, 0, 0, 0, 0, 0, 0, 0, 0, 0, 0\\n0, 5, 0, 0, 0, 0, 0, 0, 0, 0, 0, 0, 0, 0\\n0, 0, 0, 0, 0, 0, 0, 0, 0, 0, 0, 0, 0, 0\\n0, 0, 0]'),\n",
              " Text(0.5842696629213483, 0.25, 'X[12] <= 38.5\\ngini = 0.793\\nsamples = 11\\nvalue = [0, 0, 0, 0, 0, 0, 0, 0, 0, 0, 0, 0, 0, 0\\n0, 0, 0, 0, 0, 0, 0, 0, 0, 0, 0, 0, 0, 0\\n0, 0, 0, 3, 2, 1, 0, 0, 0, 1, 1, 0, 0, 3\\n0, 0, 0, 0, 0, 0, 0, 0, 0, 0, 0, 0, 0, 0\\n0, 0, 0]'),\n",
              " Text(0.5617977528089888, 0.20454545454545456, 'gini = 0.0\\nsamples = 3\\nvalue = [0, 0, 0, 0, 0, 0, 0, 0, 0, 0, 0, 0, 0, 0\\n0, 0, 0, 0, 0, 0, 0, 0, 0, 0, 0, 0, 0, 0\\n0, 0, 0, 3, 0, 0, 0, 0, 0, 0, 0, 0, 0, 0\\n0, 0, 0, 0, 0, 0, 0, 0, 0, 0, 0, 0, 0, 0\\n0, 0, 0]'),\n",
              " Text(0.6067415730337079, 0.20454545454545456, 'X[12] <= 49.5\\ngini = 0.75\\nsamples = 8\\nvalue = [0, 0, 0, 0, 0, 0, 0, 0, 0, 0, 0, 0, 0, 0\\n0, 0, 0, 0, 0, 0, 0, 0, 0, 0, 0, 0, 0, 0\\n0, 0, 0, 0, 2, 1, 0, 0, 0, 1, 1, 0, 0, 3\\n0, 0, 0, 0, 0, 0, 0, 0, 0, 0, 0, 0, 0, 0\\n0, 0, 0]'),\n",
              " Text(0.5842696629213483, 0.1590909090909091, 'X[12] <= 40.5\\ngini = 0.72\\nsamples = 5\\nvalue = [0, 0, 0, 0, 0, 0, 0, 0, 0, 0, 0, 0, 0, 0\\n0, 0, 0, 0, 0, 0, 0, 0, 0, 0, 0, 0, 0, 0\\n0, 0, 0, 0, 2, 1, 0, 0, 0, 1, 1, 0, 0, 0\\n0, 0, 0, 0, 0, 0, 0, 0, 0, 0, 0, 0, 0, 0\\n0, 0, 0]'),\n",
              " Text(0.5617977528089888, 0.11363636363636363, 'gini = 0.0\\nsamples = 2\\nvalue = [0, 0, 0, 0, 0, 0, 0, 0, 0, 0, 0, 0, 0, 0\\n0, 0, 0, 0, 0, 0, 0, 0, 0, 0, 0, 0, 0, 0\\n0, 0, 0, 0, 2, 0, 0, 0, 0, 0, 0, 0, 0, 0\\n0, 0, 0, 0, 0, 0, 0, 0, 0, 0, 0, 0, 0, 0\\n0, 0, 0]'),\n",
              " Text(0.6067415730337079, 0.11363636363636363, 'X[13] <= 0.276\\ngini = 0.667\\nsamples = 3\\nvalue = [0, 0, 0, 0, 0, 0, 0, 0, 0, 0, 0, 0, 0, 0\\n0, 0, 0, 0, 0, 0, 0, 0, 0, 0, 0, 0, 0, 0\\n0, 0, 0, 0, 0, 1, 0, 0, 0, 1, 1, 0, 0, 0\\n0, 0, 0, 0, 0, 0, 0, 0, 0, 0, 0, 0, 0, 0\\n0, 0, 0]'),\n",
              " Text(0.5842696629213483, 0.06818181818181818, 'gini = 0.0\\nsamples = 1\\nvalue = [0, 0, 0, 0, 0, 0, 0, 0, 0, 0, 0, 0, 0, 0\\n0, 0, 0, 0, 0, 0, 0, 0, 0, 0, 0, 0, 0, 0\\n0, 0, 0, 0, 0, 0, 0, 0, 0, 0, 1, 0, 0, 0\\n0, 0, 0, 0, 0, 0, 0, 0, 0, 0, 0, 0, 0, 0\\n0, 0, 0]'),\n",
              " Text(0.6292134831460674, 0.06818181818181818, 'X[6] <= 21.105\\ngini = 0.5\\nsamples = 2\\nvalue = [0, 0, 0, 0, 0, 0, 0, 0, 0, 0, 0, 0, 0, 0\\n0, 0, 0, 0, 0, 0, 0, 0, 0, 0, 0, 0, 0, 0\\n0, 0, 0, 0, 0, 1, 0, 0, 0, 1, 0, 0, 0, 0\\n0, 0, 0, 0, 0, 0, 0, 0, 0, 0, 0, 0, 0, 0\\n0, 0, 0]'),\n",
              " Text(0.6067415730337079, 0.022727272727272728, 'gini = 0.0\\nsamples = 1\\nvalue = [0, 0, 0, 0, 0, 0, 0, 0, 0, 0, 0, 0, 0, 0\\n0, 0, 0, 0, 0, 0, 0, 0, 0, 0, 0, 0, 0, 0\\n0, 0, 0, 0, 0, 0, 0, 0, 0, 1, 0, 0, 0, 0\\n0, 0, 0, 0, 0, 0, 0, 0, 0, 0, 0, 0, 0, 0\\n0, 0, 0]'),\n",
              " Text(0.651685393258427, 0.022727272727272728, 'gini = 0.0\\nsamples = 1\\nvalue = [0, 0, 0, 0, 0, 0, 0, 0, 0, 0, 0, 0, 0, 0\\n0, 0, 0, 0, 0, 0, 0, 0, 0, 0, 0, 0, 0, 0\\n0, 0, 0, 0, 0, 1, 0, 0, 0, 0, 0, 0, 0, 0\\n0, 0, 0, 0, 0, 0, 0, 0, 0, 0, 0, 0, 0, 0\\n0, 0, 0]'),\n",
              " Text(0.6292134831460674, 0.1590909090909091, 'gini = 0.0\\nsamples = 3\\nvalue = [0, 0, 0, 0, 0, 0, 0, 0, 0, 0, 0, 0, 0, 0\\n0, 0, 0, 0, 0, 0, 0, 0, 0, 0, 0, 0, 0, 0\\n0, 0, 0, 0, 0, 0, 0, 0, 0, 0, 0, 0, 0, 3\\n0, 0, 0, 0, 0, 0, 0, 0, 0, 0, 0, 0, 0, 0\\n0, 0, 0]'),\n",
              " Text(0.651685393258427, 0.29545454545454547, 'X[7] <= 6060.0\\ngini = 0.37\\nsamples = 9\\nvalue = [0, 0, 0, 0, 0, 0, 0, 0, 0, 0, 0, 0, 0, 0\\n0, 0, 0, 0, 0, 0, 0, 0, 0, 0, 0, 0, 0, 0\\n0, 0, 0, 0, 0, 0, 0, 0, 0, 0, 0, 0, 7, 1\\n1, 0, 0, 0, 0, 0, 0, 0, 0, 0, 0, 0, 0, 0\\n0, 0, 0]'),\n",
              " Text(0.6292134831460674, 0.25, 'gini = 0.0\\nsamples = 7\\nvalue = [0, 0, 0, 0, 0, 0, 0, 0, 0, 0, 0, 0, 0, 0\\n0, 0, 0, 0, 0, 0, 0, 0, 0, 0, 0, 0, 0, 0\\n0, 0, 0, 0, 0, 0, 0, 0, 0, 0, 0, 0, 7, 0\\n0, 0, 0, 0, 0, 0, 0, 0, 0, 0, 0, 0, 0, 0\\n0, 0, 0]'),\n",
              " Text(0.6741573033707865, 0.25, 'X[0] <= 1.4226624245064008e+18\\ngini = 0.5\\nsamples = 2\\nvalue = [0, 0, 0, 0, 0, 0, 0, 0, 0, 0, 0, 0, 0, 0\\n0, 0, 0, 0, 0, 0, 0, 0, 0, 0, 0, 0, 0, 0\\n0, 0, 0, 0, 0, 0, 0, 0, 0, 0, 0, 0, 0, 1\\n1, 0, 0, 0, 0, 0, 0, 0, 0, 0, 0, 0, 0, 0\\n0, 0, 0]'),\n",
              " Text(0.651685393258427, 0.20454545454545456, 'gini = 0.0\\nsamples = 1\\nvalue = [0, 0, 0, 0, 0, 0, 0, 0, 0, 0, 0, 0, 0, 0\\n0, 0, 0, 0, 0, 0, 0, 0, 0, 0, 0, 0, 0, 0\\n0, 0, 0, 0, 0, 0, 0, 0, 0, 0, 0, 0, 0, 0\\n1, 0, 0, 0, 0, 0, 0, 0, 0, 0, 0, 0, 0, 0\\n0, 0, 0]'),\n",
              " Text(0.6966292134831461, 0.20454545454545456, 'gini = 0.0\\nsamples = 1\\nvalue = [0, 0, 0, 0, 0, 0, 0, 0, 0, 0, 0, 0, 0, 0\\n0, 0, 0, 0, 0, 0, 0, 0, 0, 0, 0, 0, 0, 0\\n0, 0, 0, 0, 0, 0, 0, 0, 0, 0, 0, 0, 0, 1\\n0, 0, 0, 0, 0, 0, 0, 0, 0, 0, 0, 0, 0, 0\\n0, 0, 0]'),\n",
              " Text(0.6404494382022472, 0.4318181818181818, 'X[12] <= 52.5\\ngini = 0.384\\nsamples = 27\\nvalue = [0, 0, 0, 0, 0, 0, 0, 0, 0, 0, 0, 0, 0, 0\\n0, 0, 0, 0, 0, 0, 0, 0, 0, 0, 0, 0, 0, 0\\n0, 0, 0, 0, 0, 0, 0, 0, 0, 0, 0, 0, 0, 0\\n0, 20, 7, 0, 0, 0, 0, 0, 0, 0, 0, 0, 0, 0\\n0, 0, 0]'),\n",
              " Text(0.6179775280898876, 0.38636363636363635, 'gini = 0.0\\nsamples = 20\\nvalue = [0, 0, 0, 0, 0, 0, 0, 0, 0, 0, 0, 0, 0, 0\\n0, 0, 0, 0, 0, 0, 0, 0, 0, 0, 0, 0, 0, 0\\n0, 0, 0, 0, 0, 0, 0, 0, 0, 0, 0, 0, 0, 0\\n0, 20, 0, 0, 0, 0, 0, 0, 0, 0, 0, 0, 0, 0\\n0, 0, 0]'),\n",
              " Text(0.6629213483146067, 0.38636363636363635, 'gini = 0.0\\nsamples = 7\\nvalue = [0, 0, 0, 0, 0, 0, 0, 0, 0, 0, 0, 0, 0, 0\\n0, 0, 0, 0, 0, 0, 0, 0, 0, 0, 0, 0, 0, 0\\n0, 0, 0, 0, 0, 0, 0, 0, 0, 0, 0, 0, 0, 0\\n0, 0, 7, 0, 0, 0, 0, 0, 0, 0, 0, 0, 0, 0\\n0, 0, 0]'),\n",
              " Text(0.7078651685393258, 0.4772727272727273, 'X[12] <= 54.25\\ngini = 0.198\\nsamples = 18\\nvalue = [0, 0, 0, 0, 0, 0, 0, 0, 0, 0, 0, 0, 0, 0\\n0, 0, 0, 0, 0, 0, 0, 0, 0, 0, 0, 0, 0, 0\\n0, 0, 0, 0, 0, 0, 0, 0, 0, 0, 0, 0, 0, 0\\n0, 0, 0, 16, 2, 0, 0, 0, 0, 0, 0, 0, 0, 0\\n0, 0, 0]'),\n",
              " Text(0.6853932584269663, 0.4318181818181818, 'gini = 0.0\\nsamples = 16\\nvalue = [0, 0, 0, 0, 0, 0, 0, 0, 0, 0, 0, 0, 0, 0\\n0, 0, 0, 0, 0, 0, 0, 0, 0, 0, 0, 0, 0, 0\\n0, 0, 0, 0, 0, 0, 0, 0, 0, 0, 0, 0, 0, 0\\n0, 0, 0, 16, 0, 0, 0, 0, 0, 0, 0, 0, 0, 0\\n0, 0, 0]'),\n",
              " Text(0.7303370786516854, 0.4318181818181818, 'gini = 0.0\\nsamples = 2\\nvalue = [0, 0, 0, 0, 0, 0, 0, 0, 0, 0, 0, 0, 0, 0\\n0, 0, 0, 0, 0, 0, 0, 0, 0, 0, 0, 0, 0, 0\\n0, 0, 0, 0, 0, 0, 0, 0, 0, 0, 0, 0, 0, 0\\n0, 0, 0, 0, 2, 0, 0, 0, 0, 0, 0, 0, 0, 0\\n0, 0, 0]'),\n",
              " Text(0.7752808988764045, 0.5227272727272727, 'X[12] <= 55.25\\ngini = 0.245\\nsamples = 21\\nvalue = [0, 0, 0, 0, 0, 0, 0, 0, 0, 0, 0, 0, 0, 0\\n0, 0, 0, 0, 0, 0, 0, 0, 0, 0, 0, 0, 0, 0\\n0, 0, 0, 0, 0, 0, 0, 0, 0, 0, 0, 0, 0, 0\\n0, 0, 0, 0, 0, 18, 3, 0, 0, 0, 0, 0, 0, 0\\n0, 0, 0]'),\n",
              " Text(0.7528089887640449, 0.4772727272727273, 'gini = 0.0\\nsamples = 18\\nvalue = [0, 0, 0, 0, 0, 0, 0, 0, 0, 0, 0, 0, 0, 0\\n0, 0, 0, 0, 0, 0, 0, 0, 0, 0, 0, 0, 0, 0\\n0, 0, 0, 0, 0, 0, 0, 0, 0, 0, 0, 0, 0, 0\\n0, 0, 0, 0, 0, 18, 0, 0, 0, 0, 0, 0, 0, 0\\n0, 0, 0]'),\n",
              " Text(0.797752808988764, 0.4772727272727273, 'gini = 0.0\\nsamples = 3\\nvalue = [0, 0, 0, 0, 0, 0, 0, 0, 0, 0, 0, 0, 0, 0\\n0, 0, 0, 0, 0, 0, 0, 0, 0, 0, 0, 0, 0, 0\\n0, 0, 0, 0, 0, 0, 0, 0, 0, 0, 0, 0, 0, 0\\n0, 0, 0, 0, 0, 0, 3, 0, 0, 0, 0, 0, 0, 0\\n0, 0, 0]'),\n",
              " Text(0.9101123595505618, 0.5681818181818182, 'X[0] <= 1.421625585041408e+18\\ngini = 0.536\\nsamples = 48\\nvalue = [0, 0, 0, 0, 0, 0, 0, 0, 0, 0, 0, 0, 0, 0\\n0, 0, 0, 0, 0, 0, 0, 0, 0, 1, 1, 9, 1, 0\\n0, 31, 5, 0, 0, 0, 0, 0, 0, 0, 0, 0, 0, 0\\n0, 0, 0, 0, 0, 0, 0, 0, 0, 0, 0, 0, 0, 0\\n0, 0, 0]'),\n",
              " Text(0.8651685393258427, 0.5227272727272727, 'X[0] <= 1.420459209362768e+18\\ngini = 0.417\\nsamples = 12\\nvalue = [0, 0, 0, 0, 0, 0, 0, 0, 0, 0, 0, 0, 0, 0\\n0, 0, 0, 0, 0, 0, 0, 0, 0, 1, 1, 9, 1, 0\\n0, 0, 0, 0, 0, 0, 0, 0, 0, 0, 0, 0, 0, 0\\n0, 0, 0, 0, 0, 0, 0, 0, 0, 0, 0, 0, 0, 0\\n0, 0, 0]'),\n",
              " Text(0.8426966292134831, 0.4772727272727273, 'X[3] <= 25.0\\ngini = 0.667\\nsamples = 3\\nvalue = [0, 0, 0, 0, 0, 0, 0, 0, 0, 0, 0, 0, 0, 0\\n0, 0, 0, 0, 0, 0, 0, 0, 0, 1, 1, 0, 1, 0\\n0, 0, 0, 0, 0, 0, 0, 0, 0, 0, 0, 0, 0, 0\\n0, 0, 0, 0, 0, 0, 0, 0, 0, 0, 0, 0, 0, 0\\n0, 0, 0]'),\n",
              " Text(0.8202247191011236, 0.4318181818181818, 'gini = 0.0\\nsamples = 1\\nvalue = [0, 0, 0, 0, 0, 0, 0, 0, 0, 0, 0, 0, 0, 0\\n0, 0, 0, 0, 0, 0, 0, 0, 0, 0, 0, 0, 1, 0\\n0, 0, 0, 0, 0, 0, 0, 0, 0, 0, 0, 0, 0, 0\\n0, 0, 0, 0, 0, 0, 0, 0, 0, 0, 0, 0, 0, 0\\n0, 0, 0]'),\n",
              " Text(0.8651685393258427, 0.4318181818181818, 'X[13] <= 0.8\\ngini = 0.5\\nsamples = 2\\nvalue = [0, 0, 0, 0, 0, 0, 0, 0, 0, 0, 0, 0, 0, 0\\n0, 0, 0, 0, 0, 0, 0, 0, 0, 1, 1, 0, 0, 0\\n0, 0, 0, 0, 0, 0, 0, 0, 0, 0, 0, 0, 0, 0\\n0, 0, 0, 0, 0, 0, 0, 0, 0, 0, 0, 0, 0, 0\\n0, 0, 0]'),\n",
              " Text(0.8426966292134831, 0.38636363636363635, 'gini = 0.0\\nsamples = 1\\nvalue = [0, 0, 0, 0, 0, 0, 0, 0, 0, 0, 0, 0, 0, 0\\n0, 0, 0, 0, 0, 0, 0, 0, 0, 0, 1, 0, 0, 0\\n0, 0, 0, 0, 0, 0, 0, 0, 0, 0, 0, 0, 0, 0\\n0, 0, 0, 0, 0, 0, 0, 0, 0, 0, 0, 0, 0, 0\\n0, 0, 0]'),\n",
              " Text(0.8876404494382022, 0.38636363636363635, 'gini = 0.0\\nsamples = 1\\nvalue = [0, 0, 0, 0, 0, 0, 0, 0, 0, 0, 0, 0, 0, 0\\n0, 0, 0, 0, 0, 0, 0, 0, 0, 1, 0, 0, 0, 0\\n0, 0, 0, 0, 0, 0, 0, 0, 0, 0, 0, 0, 0, 0\\n0, 0, 0, 0, 0, 0, 0, 0, 0, 0, 0, 0, 0, 0\\n0, 0, 0]'),\n",
              " Text(0.8876404494382022, 0.4772727272727273, 'gini = 0.0\\nsamples = 9\\nvalue = [0, 0, 0, 0, 0, 0, 0, 0, 0, 0, 0, 0, 0, 0\\n0, 0, 0, 0, 0, 0, 0, 0, 0, 0, 0, 9, 0, 0\\n0, 0, 0, 0, 0, 0, 0, 0, 0, 0, 0, 0, 0, 0\\n0, 0, 0, 0, 0, 0, 0, 0, 0, 0, 0, 0, 0, 0\\n0, 0, 0]'),\n",
              " Text(0.9550561797752809, 0.5227272727272727, 'X[12] <= 34.5\\ngini = 0.239\\nsamples = 36\\nvalue = [0, 0, 0, 0, 0, 0, 0, 0, 0, 0, 0, 0, 0, 0\\n0, 0, 0, 0, 0, 0, 0, 0, 0, 0, 0, 0, 0, 0\\n0, 31, 5, 0, 0, 0, 0, 0, 0, 0, 0, 0, 0, 0\\n0, 0, 0, 0, 0, 0, 0, 0, 0, 0, 0, 0, 0, 0\\n0, 0, 0]'),\n",
              " Text(0.9325842696629213, 0.4772727272727273, 'gini = 0.0\\nsamples = 31\\nvalue = [0, 0, 0, 0, 0, 0, 0, 0, 0, 0, 0, 0, 0, 0\\n0, 0, 0, 0, 0, 0, 0, 0, 0, 0, 0, 0, 0, 0\\n0, 31, 0, 0, 0, 0, 0, 0, 0, 0, 0, 0, 0, 0\\n0, 0, 0, 0, 0, 0, 0, 0, 0, 0, 0, 0, 0, 0\\n0, 0, 0]'),\n",
              " Text(0.9775280898876404, 0.4772727272727273, 'gini = 0.0\\nsamples = 5\\nvalue = [0, 0, 0, 0, 0, 0, 0, 0, 0, 0, 0, 0, 0, 0\\n0, 0, 0, 0, 0, 0, 0, 0, 0, 0, 0, 0, 0, 0\\n0, 0, 5, 0, 0, 0, 0, 0, 0, 0, 0, 0, 0, 0\\n0, 0, 0, 0, 0, 0, 0, 0, 0, 0, 0, 0, 0, 0\\n0, 0, 0]'),\n",
              " Text(0.604662262991573, 0.75, 'gini = 0.0\\nsamples = 44\\nvalue = [0, 0, 0, 0, 0, 0, 0, 0, 0, 0, 0, 0, 0, 0\\n0, 0, 0, 0, 0, 0, 0, 0, 0, 0, 0, 0, 0, 0\\n0, 0, 0, 0, 0, 0, 0, 0, 0, 0, 0, 0, 0, 0\\n0, 0, 0, 0, 0, 0, 0, 44, 0, 0, 0, 0, 0, 0\\n0, 0, 0]'),\n",
              " Text(0.6271341731039326, 0.7954545454545454, 'gini = 0.0\\nsamples = 42\\nvalue = [0, 0, 0, 0, 0, 0, 0, 0, 0, 0, 0, 0, 0, 0\\n0, 0, 0, 0, 0, 0, 0, 0, 0, 0, 0, 0, 0, 0\\n0, 0, 0, 0, 0, 0, 0, 0, 0, 0, 0, 0, 0, 0\\n0, 0, 0, 0, 0, 0, 0, 0, 42, 0, 0, 0, 0, 0\\n0, 0, 0]'),\n",
              " Text(0.6945499034410112, 0.8409090909090909, 'X[12] <= 57.25\\ngini = 0.341\\nsamples = 101\\nvalue = [0, 0, 0, 0, 0, 0, 0, 0, 0, 0, 0, 0, 0, 0\\n0, 0, 0, 0, 0, 0, 0, 0, 0, 0, 0, 0, 0, 0\\n0, 0, 0, 0, 0, 0, 0, 0, 0, 0, 0, 0, 0, 0\\n0, 0, 0, 0, 0, 0, 0, 0, 0, 79, 22, 0, 0, 0\\n0, 0, 0]'),\n",
              " Text(0.6720779933286517, 0.7954545454545454, 'gini = 0.0\\nsamples = 79\\nvalue = [0, 0, 0, 0, 0, 0, 0, 0, 0, 0, 0, 0, 0, 0\\n0, 0, 0, 0, 0, 0, 0, 0, 0, 0, 0, 0, 0, 0\\n0, 0, 0, 0, 0, 0, 0, 0, 0, 0, 0, 0, 0, 0\\n0, 0, 0, 0, 0, 0, 0, 0, 0, 79, 0, 0, 0, 0\\n0, 0, 0]'),\n",
              " Text(0.7170218135533708, 0.7954545454545454, 'gini = 0.0\\nsamples = 22\\nvalue = [0, 0, 0, 0, 0, 0, 0, 0, 0, 0, 0, 0, 0, 0\\n0, 0, 0, 0, 0, 0, 0, 0, 0, 0, 0, 0, 0, 0\\n0, 0, 0, 0, 0, 0, 0, 0, 0, 0, 0, 0, 0, 0\\n0, 0, 0, 0, 0, 0, 0, 0, 0, 0, 22, 0, 0, 0\\n0, 0, 0]'),\n",
              " Text(0.7619656337780899, 0.8863636363636364, 'X[12] <= 58.25\\ngini = 0.625\\nsamples = 184\\nvalue = [0, 0, 0, 0, 0, 0, 0, 0, 0, 0, 0, 0, 0, 0\\n0, 0, 0, 0, 0, 0, 0, 0, 0, 0, 0, 0, 0, 0\\n0, 0, 0, 0, 0, 0, 0, 0, 0, 0, 0, 0, 0, 0\\n0, 0, 0, 0, 0, 0, 0, 0, 0, 0, 0, 93, 20, 60\\n4, 6, 1]'),\n",
              " Text(0.7394937236657303, 0.8409090909090909, 'gini = 0.0\\nsamples = 93\\nvalue = [0, 0, 0, 0, 0, 0, 0, 0, 0, 0, 0, 0, 0, 0\\n0, 0, 0, 0, 0, 0, 0, 0, 0, 0, 0, 0, 0, 0\\n0, 0, 0, 0, 0, 0, 0, 0, 0, 0, 0, 0, 0, 0\\n0, 0, 0, 0, 0, 0, 0, 0, 0, 0, 0, 93, 0, 0\\n0, 0, 0]'),\n",
              " Text(0.7844375438904494, 0.8409090909090909, 'X[12] <= 58.75\\ngini = 0.511\\nsamples = 91\\nvalue = [0, 0, 0, 0, 0, 0, 0, 0, 0, 0, 0, 0, 0, 0\\n0, 0, 0, 0, 0, 0, 0, 0, 0, 0, 0, 0, 0, 0\\n0, 0, 0, 0, 0, 0, 0, 0, 0, 0, 0, 0, 0, 0\\n0, 0, 0, 0, 0, 0, 0, 0, 0, 0, 0, 0, 20, 60\\n4, 6, 1]'),\n",
              " Text(0.7619656337780899, 0.7954545454545454, 'gini = 0.0\\nsamples = 20\\nvalue = [0, 0, 0, 0, 0, 0, 0, 0, 0, 0, 0, 0, 0, 0\\n0, 0, 0, 0, 0, 0, 0, 0, 0, 0, 0, 0, 0, 0\\n0, 0, 0, 0, 0, 0, 0, 0, 0, 0, 0, 0, 0, 0\\n0, 0, 0, 0, 0, 0, 0, 0, 0, 0, 0, 0, 20, 0\\n0, 0, 0]'),\n",
              " Text(0.806909454002809, 0.7954545454545454, 'X[12] <= 59.25\\ngini = 0.275\\nsamples = 71\\nvalue = [0, 0, 0, 0, 0, 0, 0, 0, 0, 0, 0, 0, 0, 0\\n0, 0, 0, 0, 0, 0, 0, 0, 0, 0, 0, 0, 0, 0\\n0, 0, 0, 0, 0, 0, 0, 0, 0, 0, 0, 0, 0, 0\\n0, 0, 0, 0, 0, 0, 0, 0, 0, 0, 0, 0, 0, 60\\n4, 6, 1]'),\n",
              " Text(0.7844375438904494, 0.75, 'gini = 0.0\\nsamples = 60\\nvalue = [0, 0, 0, 0, 0, 0, 0, 0, 0, 0, 0, 0, 0, 0\\n0, 0, 0, 0, 0, 0, 0, 0, 0, 0, 0, 0, 0, 0\\n0, 0, 0, 0, 0, 0, 0, 0, 0, 0, 0, 0, 0, 0\\n0, 0, 0, 0, 0, 0, 0, 0, 0, 0, 0, 0, 0, 60\\n0, 0, 0]'),\n",
              " Text(0.8293813641151685, 0.75, 'X[12] <= 59.75\\ngini = 0.562\\nsamples = 11\\nvalue = [0, 0, 0, 0, 0, 0, 0, 0, 0, 0, 0, 0, 0, 0\\n0, 0, 0, 0, 0, 0, 0, 0, 0, 0, 0, 0, 0, 0\\n0, 0, 0, 0, 0, 0, 0, 0, 0, 0, 0, 0, 0, 0\\n0, 0, 0, 0, 0, 0, 0, 0, 0, 0, 0, 0, 0, 0\\n4, 6, 1]'),\n",
              " Text(0.806909454002809, 0.7045454545454546, 'gini = 0.0\\nsamples = 4\\nvalue = [0, 0, 0, 0, 0, 0, 0, 0, 0, 0, 0, 0, 0, 0\\n0, 0, 0, 0, 0, 0, 0, 0, 0, 0, 0, 0, 0, 0\\n0, 0, 0, 0, 0, 0, 0, 0, 0, 0, 0, 0, 0, 0\\n0, 0, 0, 0, 0, 0, 0, 0, 0, 0, 0, 0, 0, 0\\n4, 0, 0]'),\n",
              " Text(0.8518532742275281, 0.7045454545454546, 'X[6] <= 17.65\\ngini = 0.245\\nsamples = 7\\nvalue = [0, 0, 0, 0, 0, 0, 0, 0, 0, 0, 0, 0, 0, 0\\n0, 0, 0, 0, 0, 0, 0, 0, 0, 0, 0, 0, 0, 0\\n0, 0, 0, 0, 0, 0, 0, 0, 0, 0, 0, 0, 0, 0\\n0, 0, 0, 0, 0, 0, 0, 0, 0, 0, 0, 0, 0, 0\\n0, 6, 1]'),\n",
              " Text(0.8293813641151685, 0.6590909090909091, 'gini = 0.0\\nsamples = 1\\nvalue = [0, 0, 0, 0, 0, 0, 0, 0, 0, 0, 0, 0, 0, 0\\n0, 0, 0, 0, 0, 0, 0, 0, 0, 0, 0, 0, 0, 0\\n0, 0, 0, 0, 0, 0, 0, 0, 0, 0, 0, 0, 0, 0\\n0, 0, 0, 0, 0, 0, 0, 0, 0, 0, 0, 0, 0, 0\\n0, 0, 1]'),\n",
              " Text(0.8743251843398876, 0.6590909090909091, 'gini = 0.0\\nsamples = 6\\nvalue = [0, 0, 0, 0, 0, 0, 0, 0, 0, 0, 0, 0, 0, 0\\n0, 0, 0, 0, 0, 0, 0, 0, 0, 0, 0, 0, 0, 0\\n0, 0, 0, 0, 0, 0, 0, 0, 0, 0, 0, 0, 0, 0\\n0, 0, 0, 0, 0, 0, 0, 0, 0, 0, 0, 0, 0, 0\\n0, 6, 0]')]"
            ]
          },
          "metadata": {},
          "execution_count": 85
        },
        {
          "output_type": "display_data",
          "data": {
            "text/plain": [
              "<Figure size 432x288 with 1 Axes>"
            ],
            "image/png": "[encoded data removed]"
          },
          "metadata": {
            "needs_background": "light"
          }
        }
      ],
      "source": [
        "from sklearn import tree\n",
        "clf=tree.DecisionTreeClassifier()\n",
        "clf.fit(X_train, training_scores_encoded)\n",
        "tree.plot_tree(clf)"
      ]
    },
    {
      "cell_type": "code",
      "source": [
        "text_representation = tree.export_text(clf)\n",
        "print(text_representation)"
      ],
      "metadata": {
        "colab": {
          "base_uri": "https://localhost:8080/"
        },
        "id": "-BM5utVI1w84",
        "outputId": "8f9127ef-7b9f-4361-ce47-bd891c3e5029"
      },
      "id": "-BM5utVI1w84",
      "execution_count": null,
      "outputs": [
        {
          "output_type": "stream",
          "name": "stdout",
          "text": [
            "|--- feature_12 <= 8.50\n",
            "|   |--- feature_12 <= 7.50\n",
            "|   |   |--- feature_12 <= 3.00\n",
            "|   |   |   |--- class: 0\n",
            "|   |   |--- feature_12 >  3.00\n",
            "|   |   |   |--- feature_6 <= 4.05\n",
            "|   |   |   |   |--- feature_13 <= 0.43\n",
            "|   |   |   |   |   |--- feature_5 <= 0.75\n",
            "|   |   |   |   |   |   |--- class: 3\n",
            "|   |   |   |   |   |--- feature_5 >  0.75\n",
            "|   |   |   |   |   |   |--- class: 1\n",
            "|   |   |   |   |--- feature_13 >  0.43\n",
            "|   |   |   |   |   |--- class: 2\n",
            "|   |   |   |--- feature_6 >  4.05\n",
            "|   |   |   |   |--- class: 4\n",
            "|   |--- feature_12 >  7.50\n",
            "|   |   |--- class: 5\n",
            "|--- feature_12 >  8.50\n",
            "|   |--- feature_12 <= 57.75\n",
            "|   |   |--- feature_12 <= 56.75\n",
            "|   |   |   |--- feature_12 <= 56.25\n",
            "|   |   |   |   |--- feature_12 <= 55.75\n",
            "|   |   |   |   |   |--- feature_12 <= 10.50\n",
            "|   |   |   |   |   |   |--- feature_12 <= 9.50\n",
            "|   |   |   |   |   |   |   |--- class: 6\n",
            "|   |   |   |   |   |   |--- feature_12 >  9.50\n",
            "|   |   |   |   |   |   |   |--- class: 7\n",
            "|   |   |   |   |   |--- feature_12 >  10.50\n",
            "|   |   |   |   |   |   |--- feature_12 <= 13.00\n",
            "|   |   |   |   |   |   |   |--- feature_12 <= 11.50\n",
            "|   |   |   |   |   |   |   |   |--- class: 8\n",
            "|   |   |   |   |   |   |   |--- feature_12 >  11.50\n",
            "|   |   |   |   |   |   |   |   |--- class: 9\n",
            "|   |   |   |   |   |   |--- feature_12 >  13.00\n",
            "|   |   |   |   |   |   |   |--- feature_12 <= 15.50\n",
            "|   |   |   |   |   |   |   |   |--- feature_12 <= 14.50\n",
            "|   |   |   |   |   |   |   |   |   |--- class: 10\n",
            "|   |   |   |   |   |   |   |   |--- feature_12 >  14.50\n",
            "|   |   |   |   |   |   |   |   |   |--- class: 11\n",
            "|   |   |   |   |   |   |   |--- feature_12 >  15.50\n",
            "|   |   |   |   |   |   |   |   |--- feature_4 <= 11.50\n",
            "|   |   |   |   |   |   |   |   |   |--- feature_12 <= 54.75\n",
            "|   |   |   |   |   |   |   |   |   |   |--- feature_12 <= 53.50\n",
            "|   |   |   |   |   |   |   |   |   |   |   |--- truncated branch of depth 11\n",
            "|   |   |   |   |   |   |   |   |   |   |--- feature_12 >  53.50\n",
            "|   |   |   |   |   |   |   |   |   |   |   |--- truncated branch of depth 2\n",
            "|   |   |   |   |   |   |   |   |   |--- feature_12 >  54.75\n",
            "|   |   |   |   |   |   |   |   |   |   |--- feature_12 <= 55.25\n",
            "|   |   |   |   |   |   |   |   |   |   |   |--- class: 47\n",
            "|   |   |   |   |   |   |   |   |   |   |--- feature_12 >  55.25\n",
            "|   |   |   |   |   |   |   |   |   |   |   |--- class: 48\n",
            "|   |   |   |   |   |   |   |   |--- feature_4 >  11.50\n",
            "|   |   |   |   |   |   |   |   |   |--- feature_0 <= 1421625585041408000.00\n",
            "|   |   |   |   |   |   |   |   |   |   |--- feature_0 <= 1420459209362767872.00\n",
            "|   |   |   |   |   |   |   |   |   |   |   |--- truncated branch of depth 3\n",
            "|   |   |   |   |   |   |   |   |   |   |--- feature_0 >  1420459209362767872.00\n",
            "|   |   |   |   |   |   |   |   |   |   |   |--- class: 25\n",
            "|   |   |   |   |   |   |   |   |   |--- feature_0 >  1421625585041408000.00\n",
            "|   |   |   |   |   |   |   |   |   |   |--- feature_12 <= 34.50\n",
            "|   |   |   |   |   |   |   |   |   |   |   |--- class: 29\n",
            "|   |   |   |   |   |   |   |   |   |   |--- feature_12 >  34.50\n",
            "|   |   |   |   |   |   |   |   |   |   |   |--- class: 30\n",
            "|   |   |   |   |--- feature_12 >  55.75\n",
            "|   |   |   |   |   |--- class: 49\n",
            "|   |   |   |--- feature_12 >  56.25\n",
            "|   |   |   |   |--- class: 50\n",
            "|   |   |--- feature_12 >  56.75\n",
            "|   |   |   |--- feature_12 <= 57.25\n",
            "|   |   |   |   |--- class: 51\n",
            "|   |   |   |--- feature_12 >  57.25\n",
            "|   |   |   |   |--- class: 52\n",
            "|   |--- feature_12 >  57.75\n",
            "|   |   |--- feature_12 <= 58.25\n",
            "|   |   |   |--- class: 53\n",
            "|   |   |--- feature_12 >  58.25\n",
            "|   |   |   |--- feature_12 <= 58.75\n",
            "|   |   |   |   |--- class: 54\n",
            "|   |   |   |--- feature_12 >  58.75\n",
            "|   |   |   |   |--- feature_12 <= 59.25\n",
            "|   |   |   |   |   |--- class: 55\n",
            "|   |   |   |   |--- feature_12 >  59.25\n",
            "|   |   |   |   |   |--- feature_12 <= 59.75\n",
            "|   |   |   |   |   |   |--- class: 56\n",
            "|   |   |   |   |   |--- feature_12 >  59.75\n",
            "|   |   |   |   |   |   |--- feature_6 <= 17.65\n",
            "|   |   |   |   |   |   |   |--- class: 58\n",
            "|   |   |   |   |   |   |--- feature_6 >  17.65\n",
            "|   |   |   |   |   |   |   |--- class: 57\n",
            "\n"
          ]
        }
      ]
    },
    {
      "cell_type": "code",
      "execution_count": null,
      "id": "07008a5f",
      "metadata": {
        "id": "07008a5f",
        "colab": {
          "base_uri": "https://localhost:8080/"
        },
        "outputId": "a53b21c3-ba2b-4389-8191-382967f2618c"
      },
      "outputs": [
        {
          "output_type": "stream",
          "name": "stdout",
          "text": [
            "[51 35  0  5 29 44 49 50 47  5 51 25 16  5 55 19 53  5 53 51 53 29 30  5\n",
            "  5  5  7  5  7 55 53 11 51 53 50 52  7 53 16 51  7 27 40 17 53 51 55  6\n",
            "  5  5  5 55 50 44  5  5 53 54 51  5  5  9 29 55 53 29 29 53 14 47 20 53\n",
            " 25 11 49 53 27 51 51  5 52  5 55 51 47 43  5 55 25  7 40 40  9  5 16 35\n",
            " 14 50 27 25  5 53  5 11 11 51  7  5  6 53  6 51 11 50 23 52 14 23 16 51\n",
            " 55  6  5 41 53  5 50 50 53 14 45 31 11 51  6  5 38 41  9 16  5 51 19 26\n",
            " 51 11 50  9  5 11  5 51 51 55 55 41 47 24  7 11 27 51 16 16  5  7 53 27\n",
            "  5 55  5  5 49  5  6 29 53 50 51  5 51  6 55 14 51  5 51 26  7 51 47 41\n",
            "  5 53 57 50 50 55 29 27  5  5 43 49 51  6  7  5 50  5  5  5 48 11  4  5\n",
            " 27  5  9 55  5 51 53 53 55  7  9 14 51 51 15 23 51  5  7 51  5  5 49 56]\n"
          ]
        }
      ],
      "source": [
        "from sklearn.metrics import confusion_matrix\n",
        "y_pred=clf.predict(X_test)\n",
        "# cf_mat=confusion_matrix(X_test,y_pred)\n",
        "print(y_pred)\n",
        "# # lab_enc.fit_transform(y_test)\n",
        "# print(cf_mat)\n"
      ]
    },
    {
      "cell_type": "code",
      "source": [
        "from sklearn.metrics import precision_score\n",
        "from sklearn.metrics import accuracy_score\n",
        "from sklearn.metrics import recall_score\n",
        "print(\"accuracy:\",accuracy_score(text_scores_encoded,y_pred))\n",
        "#  precision_recall_fscore_support(y_test, y_pred, average='macro')\n",
        "print(\"Precision score:\",precision_score(text_scores_encoded,y_pred,average='micro'))\n",
        "print(\"recall score:\",recall_score(text_scores_encoded,y_pred,average=\"micro\"))"
      ],
      "metadata": {
        "colab": {
          "base_uri": "https://localhost:8080/"
        },
        "id": "YmnRsYysOrbc",
        "outputId": "37923b9c-b53f-44e5-d1bb-0ff88f97af41"
      },
      "id": "YmnRsYysOrbc",
      "execution_count": null,
      "outputs": [
        {
          "output_type": "stream",
          "name": "stdout",
          "text": [
            "accuracy: 0.004166666666666667\n",
            "Precision score: 0.004166666666666667\n",
            "recall score: 0.004166666666666667\n"
          ]
        }
      ]
    },
    {
      "cell_type": "code",
      "source": [
        "from sklearn.metrics import classification_report\n",
        "print(classification_report(text_scores_encoded,y_pred))"
      ],
      "metadata": {
        "colab": {
          "base_uri": "https://localhost:8080/"
        },
        "id": "JCVZNhZVSJ4I",
        "outputId": "61d8cf0d-bce9-4519-b195-9baf1427bfca"
      },
      "id": "JCVZNhZVSJ4I",
      "execution_count": null,
      "outputs": [
        {
          "output_type": "stream",
          "name": "stdout",
          "text": [
            "              precision    recall  f1-score   support\n",
            "\n",
            "           0       1.00      1.00      1.00         1\n",
            "           1       0.00      0.00      0.00         1\n",
            "           2       0.00      0.00      0.00        48\n",
            "           3       0.00      0.00      0.00         8\n",
            "           4       0.00      0.00      0.00        12\n",
            "           5       0.00      0.00      0.00         6\n",
            "           6       0.00      0.00      0.00        10\n",
            "           7       0.00      0.00      0.00         6\n",
            "           8       0.00      0.00      0.00         1\n",
            "           9       0.00      0.00      0.00         6\n",
            "          10       0.00      0.00      0.00         1\n",
            "          11       0.00      0.00      0.00         2\n",
            "          12       0.00      0.00      0.00         1\n",
            "          13       0.00      0.00      0.00         1\n",
            "          14       0.00      0.00      0.00         3\n",
            "          15       0.00      0.00      0.00         1\n",
            "          16       0.00      0.00      0.00         4\n",
            "          17       0.00      0.00      0.00         4\n",
            "          18       0.00      0.00      0.00         5\n",
            "          19       0.00      0.00      0.00         7\n",
            "          20       0.00      0.00      0.00         1\n",
            "          21       0.00      0.00      0.00         1\n",
            "          22       0.00      0.00      0.00         1\n",
            "          23       0.00      0.00      0.00         2\n",
            "          24       0.00      0.00      0.00         3\n",
            "          25       0.00      0.00      0.00         4\n",
            "          26       0.00      0.00      0.00         2\n",
            "          27       0.00      0.00      0.00         2\n",
            "          28       0.00      0.00      0.00         1\n",
            "          29       0.00      0.00      0.00         5\n",
            "          30       0.00      0.00      0.00         1\n",
            "          31       0.00      0.00      0.00         5\n",
            "          32       0.00      0.00      0.00        12\n",
            "          33       0.00      0.00      0.00        30\n",
            "          34       0.00      0.00      0.00         3\n",
            "          35       0.00      0.00      0.00        21\n",
            "          36       0.00      0.00      0.00         1\n",
            "          37       0.00      0.00      0.00        15\n",
            "          38       0.00      0.00      0.00         1\n",
            "          39       0.00      0.00      0.00         1\n",
            "          40       0.00      0.00      0.00         0\n",
            "          41       0.00      0.00      0.00         0\n",
            "          43       0.00      0.00      0.00         0\n",
            "          44       0.00      0.00      0.00         0\n",
            "          45       0.00      0.00      0.00         0\n",
            "          47       0.00      0.00      0.00         0\n",
            "          48       0.00      0.00      0.00         0\n",
            "          49       0.00      0.00      0.00         0\n",
            "          50       0.00      0.00      0.00         0\n",
            "          51       0.00      0.00      0.00         0\n",
            "          52       0.00      0.00      0.00         0\n",
            "          53       0.00      0.00      0.00         0\n",
            "          54       0.00      0.00      0.00         0\n",
            "          55       0.00      0.00      0.00         0\n",
            "          56       0.00      0.00      0.00         0\n",
            "          57       0.00      0.00      0.00         0\n",
            "\n",
            "    accuracy                           0.00       240\n",
            "   macro avg       0.02      0.02      0.02       240\n",
            "weighted avg       0.00      0.00      0.00       240\n",
            "\n"
          ]
        },
        {
          "output_type": "stream",
          "name": "stderr",
          "text": [
            "/usr/local/lib/python3.7/dist-packages/sklearn/metrics/_classification.py:1318: UndefinedMetricWarning: Precision and F-score are ill-defined and being set to 0.0 in labels with no predicted samples. Use `zero_division` parameter to control this behavior.\n",
            "  _warn_prf(average, modifier, msg_start, len(result))\n",
            "/usr/local/lib/python3.7/dist-packages/sklearn/metrics/_classification.py:1318: UndefinedMetricWarning: Recall and F-score are ill-defined and being set to 0.0 in labels with no true samples. Use `zero_division` parameter to control this behavior.\n",
            "  _warn_prf(average, modifier, msg_start, len(result))\n",
            "/usr/local/lib/python3.7/dist-packages/sklearn/metrics/_classification.py:1318: UndefinedMetricWarning: Precision and F-score are ill-defined and being set to 0.0 in labels with no predicted samples. Use `zero_division` parameter to control this behavior.\n",
            "  _warn_prf(average, modifier, msg_start, len(result))\n",
            "/usr/local/lib/python3.7/dist-packages/sklearn/metrics/_classification.py:1318: UndefinedMetricWarning: Recall and F-score are ill-defined and being set to 0.0 in labels with no true samples. Use `zero_division` parameter to control this behavior.\n",
            "  _warn_prf(average, modifier, msg_start, len(result))\n",
            "/usr/local/lib/python3.7/dist-packages/sklearn/metrics/_classification.py:1318: UndefinedMetricWarning: Precision and F-score are ill-defined and being set to 0.0 in labels with no predicted samples. Use `zero_division` parameter to control this behavior.\n",
            "  _warn_prf(average, modifier, msg_start, len(result))\n",
            "/usr/local/lib/python3.7/dist-packages/sklearn/metrics/_classification.py:1318: UndefinedMetricWarning: Recall and F-score are ill-defined and being set to 0.0 in labels with no true samples. Use `zero_division` parameter to control this behavior.\n",
            "  _warn_prf(average, modifier, msg_start, len(result))\n"
          ]
        }
      ]
    },
    {
      "cell_type": "code",
      "execution_count": null,
      "id": "3bb1e200",
      "metadata": {
        "id": "3bb1e200",
        "colab": {
          "base_uri": "https://localhost:8080/",
          "height": 511
        },
        "outputId": "5ebfddb5-70bb-4f1a-86f9-4e7548f28694"
      },
      "outputs": [
        {
          "output_type": "display_data",
          "data": {
            "text/plain": [
              "<Figure size 540x540 with 1 Axes>"
            ],
            "image/png": "[encoded data removed]"
          },
          "metadata": {
            "needs_background": "light"
          }
        }
      ],
      "source": [
        "from sklearn.metrics import confusion_matrix\n",
        "7\n",
        "\n",
        "conf_mat=confusion_matrix(y_true=y_test.round() ,y_pred=y_pred)\n",
        "fig,ax=plt.subplots(figsize=(7.5,7.5))\n",
        "ax.matshow(conf_mat,cmap=plt.cm.Blues,alpha=0.3)\n",
        "for i in range(conf_mat.shape[0]):\n",
        "    for j in range(conf_mat.shape[1]):\n",
        "        ax.text(x=j,y=i,s=conf_mat[i,j],va='center',ha='center',size='xx-large')\n",
        "plt.xlabel(\"prediction \",fontsize=28)\n",
        "plt.ylabel(\"Actuals\",fontsize=18)\n",
        "plt.title(\"confustion matrix\",fontsize=18)\n",
        "plt.show()"
      ]
    },
    {
      "cell_type": "code",
      "source": [
        "import seaborn as sns\n",
        "from sklearn.metrics import confusion_matrix\n",
        "\n",
        "cm = confusion_matrix(y_test, y_pred)\n",
        "f = sns.heatmap(cm, annot=True, fmt='d')"
      ],
      "metadata": {
        "colab": {
          "base_uri": "https://localhost:8080/",
          "height": 265
        },
        "id": "WfWYZDEhNRpf",
        "outputId": "7ee1815e-0ad1-40dc-e16c-11b8acbe9868"
      },
      "id": "WfWYZDEhNRpf",
      "execution_count": null,
      "outputs": [
        {
          "output_type": "display_data",
          "data": {
            "text/plain": [
              "<Figure size 432x288 with 2 Axes>"
            ],
            "image/png": "[encoded data removed]"
          },
          "metadata": {
            "needs_background": "light"
          }
        }
      ]
    },
    {
      "cell_type": "code",
      "source": [
        ""
      ],
      "metadata": {
        "id": "Km97X0v6OVIU"
      },
      "id": "Km97X0v6OVIU",
      "execution_count": null,
      "outputs": []
    },
    {
      "cell_type": "code",
      "execution_count": null,
      "id": "daead985",
      "metadata": {
        "id": "daead985"
      },
      "outputs": [],
      "source": [
        ""
      ]
    }
  ],
  "metadata": {
    "kernelspec": {
      "display_name": "Python 3",
      "language": "python",
      "name": "python3"
    },
    "language_info": {
      "codemirror_mode": {
        "name": "ipython",
        "version": 3
      },
      "file_extension": ".py",
      "mimetype": "text/x-python",
      "name": "python",
      "nbconvert_exporter": "python",
      "pygments_lexer": "ipython3",
      "version": "3.9.6"
    },
    "colab": {
      "name": "Copy of Sudha 2 ex.ipynb",
      "provenance": [],
      "collapsed_sections": []
    }
  },
  "nbformat": 4,
  "nbformat_minor": 5
}